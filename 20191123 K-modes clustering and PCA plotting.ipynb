{
 "cells": [
  {
   "cell_type": "markdown",
   "metadata": {},
   "source": [
    "## 0. Load data and preprocessing"
   ]
  },
  {
   "cell_type": "code",
   "execution_count": 1,
   "metadata": {},
   "outputs": [],
   "source": [
    "import numpy as np\n",
    "import pandas as pd\n",
    "import matplotlib.pyplot as plt\n",
    "import seaborn as sns\n",
    "import warnings\n",
    "warnings.filterwarnings('ignore')"
   ]
  },
  {
   "cell_type": "code",
   "execution_count": 2,
   "metadata": {},
   "outputs": [],
   "source": [
    "data = pd.read_csv('data_final.csv')"
   ]
  },
  {
   "cell_type": "code",
   "execution_count": 3,
   "metadata": {
    "scrolled": true
   },
   "outputs": [
    {
     "data": {
      "text/plain": [
       "Answer.age                             int64\n",
       "Answer.easy.concentration              int64\n",
       "Answer.easy.conversation               int64\n",
       "Answer.energetic                       int64\n",
       "Answer.game.normal.time              float64\n",
       "Answer.game.yesterday.time           float64\n",
       "Answer.leisure.ideal.time            float64\n",
       "Answer.leisure.minimum.time          float64\n",
       "Answer.leisure.normal.time           float64\n",
       "Answer.leisure.yesterday.time        float64\n",
       "Answer.sleep.ideal.time              float64\n",
       "Answer.sleep.minimum.time            float64\n",
       "Answer.sleep.normal.time             float64\n",
       "Answer.sleep.yesterday.time          float64\n",
       "Answer.sleepy                          int64\n",
       "Answer.socialize.ideal.time          float64\n",
       "Answer.socialize.minimum.time        float64\n",
       "Answer.socialize.normal.time         float64\n",
       "Answer.socialmedia.normal.time       float64\n",
       "Answer.socialmedia.yesterday.time    float64\n",
       "Answer.tired                           int64\n",
       "Answer.work.ideal.time               float64\n",
       "Answer.work.minimum.time             float64\n",
       "Answer.work.normal.time              float64\n",
       "Answer.work.yesterday.time           float64\n",
       "Answer.yesterday.energy                int64\n",
       "Answer.youtube.normal.time           float64\n",
       "Answer.youtube.yesterday.time        float64\n",
       "Answer.location                        int64\n",
       "Answer.marital                         int64\n",
       "Answer.meal.minimum                    int64\n",
       "Answer.meal.normal                     int64\n",
       "Answer.meal.yesterday                  int64\n",
       "Answer.occupation                      int64\n",
       "Answer.prefer.activity                 int64\n",
       "Answer.rise.time.normal                int64\n",
       "Answer.rise.time.yesterday             int64\n",
       "Answer.social.event.yesterday          int64\n",
       "Answer.bed.time.normal                 int64\n",
       "Answer.ethnicity                       int64\n",
       "Answer.bed.time.yesterday              int64\n",
       "Answer.gender                          int64\n",
       "Answer.income                          int64\n",
       "Answer.introvert                       int64\n",
       "Meal_Irregularity_Score              float64\n",
       "Energy_today                         float64\n",
       "dtype: object"
      ]
     },
     "execution_count": 3,
     "metadata": {},
     "output_type": "execute_result"
    }
   ],
   "source": [
    "data.dtypes"
   ]
  },
  {
   "cell_type": "code",
   "execution_count": 4,
   "metadata": {},
   "outputs": [],
   "source": [
    "cat_list = ['Answer.ethnicity',\n",
    " 'Answer.bed.time.yesterday',\n",
    " 'Answer.gender',\n",
    " 'Answer.income',\n",
    " 'Answer.introvert',\n",
    " 'Answer.location',\n",
    " 'Answer.marital',\n",
    " 'Answer.meal.minimum',\n",
    " 'Answer.meal.normal',\n",
    " 'Answer.meal.yesterday',\n",
    " 'Answer.occupation',\n",
    " 'Answer.prefer.activity',\n",
    " 'Answer.rise.time.normal',\n",
    " 'Answer.rise.time.yesterday',\n",
    " 'Answer.social.event.yesterday']\n",
    "\n",
    "\n",
    "for col in cat_list:\n",
    "    data[col]  = pd.Categorical(data[col])"
   ]
  },
  {
   "cell_type": "code",
   "execution_count": 5,
   "metadata": {},
   "outputs": [],
   "source": [
    "cat_indices = [data.columns.get_loc(c) for c in cat_list if c in data]"
   ]
  },
  {
   "cell_type": "markdown",
   "metadata": {},
   "source": [
    "#### get correlation except for nominal variables"
   ]
  },
  {
   "cell_type": "code",
   "execution_count": 6,
   "metadata": {
    "scrolled": true
   },
   "outputs": [
    {
     "data": {
      "text/html": [
       "<div>\n",
       "<style scoped>\n",
       "    .dataframe tbody tr th:only-of-type {\n",
       "        vertical-align: middle;\n",
       "    }\n",
       "\n",
       "    .dataframe tbody tr th {\n",
       "        vertical-align: top;\n",
       "    }\n",
       "\n",
       "    .dataframe thead th {\n",
       "        text-align: right;\n",
       "    }\n",
       "</style>\n",
       "<table border=\"1\" class=\"dataframe\">\n",
       "  <thead>\n",
       "    <tr style=\"text-align: right;\">\n",
       "      <th></th>\n",
       "      <th>X_var</th>\n",
       "      <th>Pearsons_r</th>\n",
       "    </tr>\n",
       "  </thead>\n",
       "  <tbody>\n",
       "    <tr>\n",
       "      <th>2</th>\n",
       "      <td>Answer.easy.conversation</td>\n",
       "      <td>0.692397</td>\n",
       "    </tr>\n",
       "    <tr>\n",
       "      <th>1</th>\n",
       "      <td>Answer.easy.concentration</td>\n",
       "      <td>0.624894</td>\n",
       "    </tr>\n",
       "    <tr>\n",
       "      <th>3</th>\n",
       "      <td>Answer.energetic</td>\n",
       "      <td>0.519902</td>\n",
       "    </tr>\n",
       "    <tr>\n",
       "      <th>25</th>\n",
       "      <td>Answer.yesterday.energy</td>\n",
       "      <td>0.310735</td>\n",
       "    </tr>\n",
       "    <tr>\n",
       "      <th>20</th>\n",
       "      <td>Answer.tired</td>\n",
       "      <td>0.237546</td>\n",
       "    </tr>\n",
       "    <tr>\n",
       "      <th>24</th>\n",
       "      <td>Answer.work.yesterday.time</td>\n",
       "      <td>0.186558</td>\n",
       "    </tr>\n",
       "    <tr>\n",
       "      <th>21</th>\n",
       "      <td>Answer.work.ideal.time</td>\n",
       "      <td>0.173586</td>\n",
       "    </tr>\n",
       "    <tr>\n",
       "      <th>13</th>\n",
       "      <td>Answer.sleep.yesterday.time</td>\n",
       "      <td>0.147395</td>\n",
       "    </tr>\n",
       "    <tr>\n",
       "      <th>27</th>\n",
       "      <td>Answer.youtube.yesterday.time</td>\n",
       "      <td>0.145557</td>\n",
       "    </tr>\n",
       "    <tr>\n",
       "      <th>14</th>\n",
       "      <td>Answer.sleepy</td>\n",
       "      <td>0.136011</td>\n",
       "    </tr>\n",
       "    <tr>\n",
       "      <th>23</th>\n",
       "      <td>Answer.work.normal.time</td>\n",
       "      <td>0.134085</td>\n",
       "    </tr>\n",
       "    <tr>\n",
       "      <th>15</th>\n",
       "      <td>Answer.socialize.ideal.time</td>\n",
       "      <td>0.133459</td>\n",
       "    </tr>\n",
       "    <tr>\n",
       "      <th>11</th>\n",
       "      <td>Answer.sleep.minimum.time</td>\n",
       "      <td>0.125700</td>\n",
       "    </tr>\n",
       "    <tr>\n",
       "      <th>12</th>\n",
       "      <td>Answer.sleep.normal.time</td>\n",
       "      <td>0.121933</td>\n",
       "    </tr>\n",
       "    <tr>\n",
       "      <th>5</th>\n",
       "      <td>Answer.game.yesterday.time</td>\n",
       "      <td>0.109508</td>\n",
       "    </tr>\n",
       "    <tr>\n",
       "      <th>7</th>\n",
       "      <td>Answer.leisure.minimum.time</td>\n",
       "      <td>0.109476</td>\n",
       "    </tr>\n",
       "    <tr>\n",
       "      <th>4</th>\n",
       "      <td>Answer.game.normal.time</td>\n",
       "      <td>0.108807</td>\n",
       "    </tr>\n",
       "    <tr>\n",
       "      <th>16</th>\n",
       "      <td>Answer.socialize.minimum.time</td>\n",
       "      <td>0.105628</td>\n",
       "    </tr>\n",
       "    <tr>\n",
       "      <th>26</th>\n",
       "      <td>Answer.youtube.normal.time</td>\n",
       "      <td>0.101340</td>\n",
       "    </tr>\n",
       "    <tr>\n",
       "      <th>37</th>\n",
       "      <td>Answer.introvert</td>\n",
       "      <td>0.100098</td>\n",
       "    </tr>\n",
       "    <tr>\n",
       "      <th>22</th>\n",
       "      <td>Answer.work.minimum.time</td>\n",
       "      <td>0.094854</td>\n",
       "    </tr>\n",
       "    <tr>\n",
       "      <th>36</th>\n",
       "      <td>Answer.income</td>\n",
       "      <td>0.086170</td>\n",
       "    </tr>\n",
       "    <tr>\n",
       "      <th>8</th>\n",
       "      <td>Answer.leisure.normal.time</td>\n",
       "      <td>0.082515</td>\n",
       "    </tr>\n",
       "    <tr>\n",
       "      <th>9</th>\n",
       "      <td>Answer.leisure.yesterday.time</td>\n",
       "      <td>0.081553</td>\n",
       "    </tr>\n",
       "    <tr>\n",
       "      <th>17</th>\n",
       "      <td>Answer.socialize.normal.time</td>\n",
       "      <td>0.081515</td>\n",
       "    </tr>\n",
       "    <tr>\n",
       "      <th>19</th>\n",
       "      <td>Answer.socialmedia.yesterday.time</td>\n",
       "      <td>0.078982</td>\n",
       "    </tr>\n",
       "    <tr>\n",
       "      <th>10</th>\n",
       "      <td>Answer.sleep.ideal.time</td>\n",
       "      <td>0.078515</td>\n",
       "    </tr>\n",
       "    <tr>\n",
       "      <th>0</th>\n",
       "      <td>Answer.age</td>\n",
       "      <td>0.058842</td>\n",
       "    </tr>\n",
       "    <tr>\n",
       "      <th>18</th>\n",
       "      <td>Answer.socialmedia.normal.time</td>\n",
       "      <td>0.056017</td>\n",
       "    </tr>\n",
       "    <tr>\n",
       "      <th>35</th>\n",
       "      <td>Answer.bed.time.yesterday</td>\n",
       "      <td>0.046432</td>\n",
       "    </tr>\n",
       "    <tr>\n",
       "      <th>34</th>\n",
       "      <td>Answer.bed.time.normal</td>\n",
       "      <td>0.039918</td>\n",
       "    </tr>\n",
       "    <tr>\n",
       "      <th>30</th>\n",
       "      <td>Answer.meal.yesterday</td>\n",
       "      <td>-0.037139</td>\n",
       "    </tr>\n",
       "    <tr>\n",
       "      <th>29</th>\n",
       "      <td>Answer.meal.normal</td>\n",
       "      <td>0.036533</td>\n",
       "    </tr>\n",
       "    <tr>\n",
       "      <th>6</th>\n",
       "      <td>Answer.leisure.ideal.time</td>\n",
       "      <td>0.030748</td>\n",
       "    </tr>\n",
       "    <tr>\n",
       "      <th>31</th>\n",
       "      <td>Answer.rise.time.normal</td>\n",
       "      <td>0.011006</td>\n",
       "    </tr>\n",
       "    <tr>\n",
       "      <th>33</th>\n",
       "      <td>Answer.social.event.yesterday</td>\n",
       "      <td>0.005068</td>\n",
       "    </tr>\n",
       "    <tr>\n",
       "      <th>32</th>\n",
       "      <td>Answer.rise.time.yesterday</td>\n",
       "      <td>-0.005012</td>\n",
       "    </tr>\n",
       "    <tr>\n",
       "      <th>38</th>\n",
       "      <td>Meal_Irregularity_Score</td>\n",
       "      <td>0.004734</td>\n",
       "    </tr>\n",
       "    <tr>\n",
       "      <th>28</th>\n",
       "      <td>Answer.meal.minimum</td>\n",
       "      <td>0.000213</td>\n",
       "    </tr>\n",
       "  </tbody>\n",
       "</table>\n",
       "</div>"
      ],
      "text/plain": [
       "                                X_var  Pearsons_r\n",
       "2            Answer.easy.conversation    0.692397\n",
       "1           Answer.easy.concentration    0.624894\n",
       "3                    Answer.energetic    0.519902\n",
       "25            Answer.yesterday.energy    0.310735\n",
       "20                       Answer.tired    0.237546\n",
       "24         Answer.work.yesterday.time    0.186558\n",
       "21             Answer.work.ideal.time    0.173586\n",
       "13        Answer.sleep.yesterday.time    0.147395\n",
       "27      Answer.youtube.yesterday.time    0.145557\n",
       "14                      Answer.sleepy    0.136011\n",
       "23            Answer.work.normal.time    0.134085\n",
       "15        Answer.socialize.ideal.time    0.133459\n",
       "11          Answer.sleep.minimum.time    0.125700\n",
       "12           Answer.sleep.normal.time    0.121933\n",
       "5          Answer.game.yesterday.time    0.109508\n",
       "7         Answer.leisure.minimum.time    0.109476\n",
       "4             Answer.game.normal.time    0.108807\n",
       "16      Answer.socialize.minimum.time    0.105628\n",
       "26         Answer.youtube.normal.time    0.101340\n",
       "37                   Answer.introvert    0.100098\n",
       "22           Answer.work.minimum.time    0.094854\n",
       "36                      Answer.income    0.086170\n",
       "8          Answer.leisure.normal.time    0.082515\n",
       "9       Answer.leisure.yesterday.time    0.081553\n",
       "17       Answer.socialize.normal.time    0.081515\n",
       "19  Answer.socialmedia.yesterday.time    0.078982\n",
       "10            Answer.sleep.ideal.time    0.078515\n",
       "0                          Answer.age    0.058842\n",
       "18     Answer.socialmedia.normal.time    0.056017\n",
       "35          Answer.bed.time.yesterday    0.046432\n",
       "34             Answer.bed.time.normal    0.039918\n",
       "30              Answer.meal.yesterday   -0.037139\n",
       "29                 Answer.meal.normal    0.036533\n",
       "6           Answer.leisure.ideal.time    0.030748\n",
       "31            Answer.rise.time.normal    0.011006\n",
       "33      Answer.social.event.yesterday    0.005068\n",
       "32         Answer.rise.time.yesterday   -0.005012\n",
       "38            Meal_Irregularity_Score    0.004734\n",
       "28                Answer.meal.minimum    0.000213"
      ]
     },
     "execution_count": 6,
     "metadata": {},
     "output_type": "execute_result"
    }
   ],
   "source": [
    "from scipy.stats import pearsonr\n",
    "\n",
    "corr_df = pd.DataFrame()\n",
    "X = data.drop(['Energy_today', 'Answer.ethnicity',\\\n",
    "              'Answer.gender', 'Answer.location', \\\n",
    "              'Answer.marital','Answer.occupation','Answer.prefer.activity'], axis=1)\n",
    "y = data['Energy_today']\n",
    "corr_df['X_var'] = X.columns.tolist()\n",
    "\n",
    "corr_vec = []\n",
    "for i in range(X.shape[1]):\n",
    "    corr, _ = pearsonr(X.iloc[:,i], y)\n",
    "    corr_vec.append(corr)\n",
    "\n",
    "corr_df['Pearsons_r'] = corr_vec\n",
    "corr_df.reindex(corr_df['Pearsons_r'].abs().sort_values(ascending = False).index)"
   ]
  },
  {
   "cell_type": "markdown",
   "metadata": {},
   "source": [
    "## K-Modes"
   ]
  },
  {
   "cell_type": "code",
   "execution_count": 7,
   "metadata": {
    "scrolled": true
   },
   "outputs": [
    {
     "name": "stdout",
     "output_type": "stream",
     "text": [
      "Init: initializing centroids\n",
      "Init: initializing clusters\n",
      "Starting iterations...\n",
      "Run 1, iteration: 1/100, moves: 176, cost: 15008.0\n",
      "Run 1, iteration: 2/100, moves: 44, cost: 15004.0\n",
      "Run 1, iteration: 3/100, moves: 1, cost: 15004.0\n",
      "Init: initializing centroids\n",
      "Init: initializing clusters\n",
      "Starting iterations...\n",
      "Run 2, iteration: 1/100, moves: 149, cost: 14951.0\n",
      "Run 2, iteration: 2/100, moves: 64, cost: 14917.0\n",
      "Run 2, iteration: 3/100, moves: 24, cost: 14910.0\n",
      "Run 2, iteration: 4/100, moves: 5, cost: 14910.0\n",
      "Init: initializing centroids\n",
      "Init: initializing clusters\n",
      "Starting iterations...\n",
      "Run 3, iteration: 1/100, moves: 176, cost: 14988.0\n",
      "Run 3, iteration: 2/100, moves: 46, cost: 14981.0\n",
      "Run 3, iteration: 3/100, moves: 0, cost: 14981.0\n",
      "Init: initializing centroids\n",
      "Init: initializing clusters\n",
      "Starting iterations...\n",
      "Run 4, iteration: 1/100, moves: 161, cost: 14991.0\n",
      "Run 4, iteration: 2/100, moves: 62, cost: 14976.0\n",
      "Run 4, iteration: 3/100, moves: 6, cost: 14976.0\n",
      "Init: initializing centroids\n",
      "Init: initializing clusters\n",
      "Starting iterations...\n",
      "Run 5, iteration: 1/100, moves: 175, cost: 15003.0\n",
      "Run 5, iteration: 2/100, moves: 51, cost: 14990.0\n",
      "Run 5, iteration: 3/100, moves: 2, cost: 14990.0\n",
      "Best run was number 2\n",
      "[[29.   5.   2.   1.   0.   0.   4.   2.   2.   1.   8.   6.   7.   6.\n",
      "   1.   1.   1.   1.   2.   2.   2.   8.   8.   8.   8.   6.   2.   2.\n",
      "   3.   4.   2.   2.   2.   6.   2.   1.   1.   1.   4.   6.   3.   2.\n",
      "   2.   1.   3.   4.6]\n",
      " [38.   1.   1.   1.   0.   0.   3.   3.   1.   1.   8.   7.   8.   7.\n",
      "   7.   1.   1.   1.   1.   1.   6.   6.   8.   8.   8.   1.   1.   1.\n",
      "   1.   4.   2.   1.   1.   6.   2.   1.   1.   2.   2.   6.   2.   1.\n",
      "   3.   1.  -1.   4.2]\n",
      " [35.  10.  10.  10.   0.   0.   2.   2.   2.   2.   8.   7.   7.   7.\n",
      "   0.   2.   1.   1.   1.   1.   0.   8.   8.   8.   8.   8.   1.   0.\n",
      "   2.   4.   2.   2.   2.   6.   3.   1.   1.   2.   3.   6.   3.   1.\n",
      "   3.   1.   3.   6. ]]\n"
     ]
    }
   ],
   "source": [
    "# !pip install kmodes\n",
    "from kmodes.kmodes import KModes\n",
    "\n",
    "km = KModes(n_clusters=3, init='Huang', n_init=5, verbose=1)\n",
    "clusters = km.fit_predict(data)\n",
    "\n",
    "# Print the cluster centroids\n",
    "print(km.cluster_centroids_)\n",
    "\n",
    "#append cluster to dataframe\n",
    "data['Cluster_kmodes'] = clusters"
   ]
  },
  {
   "cell_type": "markdown",
   "metadata": {},
   "source": [
    "## K-Prototype"
   ]
  },
  {
   "cell_type": "code",
   "execution_count": 8,
   "metadata": {},
   "outputs": [],
   "source": [
    "from kmodes.kprototypes import KPrototypes\n",
    "\n",
    "kp=KPrototypes(n_clusters=3, init='Huang')\n",
    "cluster=kp.fit_predict(data, categorical=cat_indices)"
   ]
  },
  {
   "cell_type": "code",
   "execution_count": 9,
   "metadata": {},
   "outputs": [],
   "source": [
    "data['Cluster_kprototype'] = cluster"
   ]
  },
  {
   "cell_type": "markdown",
   "metadata": {},
   "source": [
    "## K-Means"
   ]
  },
  {
   "cell_type": "code",
   "execution_count": 10,
   "metadata": {},
   "outputs": [],
   "source": [
    "from sklearn.cluster import KMeans"
   ]
  },
  {
   "cell_type": "code",
   "execution_count": 11,
   "metadata": {},
   "outputs": [],
   "source": [
    "data2 = pd.read_csv('data_final.csv',\n",
    "           encoding = \"ISO-8859-1\")"
   ]
  },
  {
   "cell_type": "code",
   "execution_count": 12,
   "metadata": {},
   "outputs": [],
   "source": [
    "kmeans = KMeans(n_clusters=3, random_state=0).fit(data2)\n",
    "data['Cluster_kmeans'] = kmeans.labels_"
   ]
  },
  {
   "cell_type": "markdown",
   "metadata": {},
   "source": [
    "## Output data"
   ]
  },
  {
   "cell_type": "code",
   "execution_count": 13,
   "metadata": {},
   "outputs": [],
   "source": [
    "file_name=\"data_clustered_3.csv\"\n",
    "data.to_csv(file_name, index=False)"
   ]
  },
  {
   "cell_type": "code",
   "execution_count": 66,
   "metadata": {},
   "outputs": [
    {
     "data": {
      "text/plain": [
       "['Answer.age',\n",
       " 'Answer.easy.concentration',\n",
       " 'Answer.easy.conversation',\n",
       " 'Answer.energetic',\n",
       " 'Answer.game.normal.time',\n",
       " 'Answer.game.yesterday.time',\n",
       " 'Answer.leisure.ideal.time',\n",
       " 'Answer.leisure.minimum.time',\n",
       " 'Answer.leisure.normal.time',\n",
       " 'Answer.leisure.yesterday.time',\n",
       " 'Answer.sleep.ideal.time',\n",
       " 'Answer.sleep.minimum.time',\n",
       " 'Answer.sleep.normal.time',\n",
       " 'Answer.sleep.yesterday.time',\n",
       " 'Answer.sleepy',\n",
       " 'Answer.socialize.ideal.time',\n",
       " 'Answer.socialize.minimum.time',\n",
       " 'Answer.socialize.normal.time',\n",
       " 'Answer.socialmedia.normal.time',\n",
       " 'Answer.socialmedia.yesterday.time',\n",
       " 'Answer.tired',\n",
       " 'Answer.work.ideal.time',\n",
       " 'Answer.work.minimum.time',\n",
       " 'Answer.work.normal.time',\n",
       " 'Answer.work.yesterday.time',\n",
       " 'Answer.yesterday.energy',\n",
       " 'Answer.youtube.normal.time',\n",
       " 'Answer.youtube.yesterday.time',\n",
       " 'Answer.location',\n",
       " 'Answer.marital',\n",
       " 'Answer.meal.minimum',\n",
       " 'Answer.meal.normal',\n",
       " 'Answer.meal.yesterday',\n",
       " 'Answer.occupation',\n",
       " 'Answer.prefer.activity',\n",
       " 'Answer.rise.time.normal',\n",
       " 'Answer.rise.time.yesterday',\n",
       " 'Answer.social.event.yesterday',\n",
       " 'Answer.bed.time.normal',\n",
       " 'Answer.ethnicity',\n",
       " 'Answer.bed.time.yesterday',\n",
       " 'Answer.gender',\n",
       " 'Answer.income',\n",
       " 'Answer.introvert',\n",
       " 'Meal_Irregularity_Score',\n",
       " 'Energy_today',\n",
       " 'Cluster_kmodes',\n",
       " 'Cluster_kprototype',\n",
       " 'Cluster_kmeans']"
      ]
     },
     "execution_count": 66,
     "metadata": {},
     "output_type": "execute_result"
    }
   ],
   "source": [
    "data.columns.tolist()"
   ]
  },
  {
   "cell_type": "code",
   "execution_count": 67,
   "metadata": {},
   "outputs": [],
   "source": [
    "data_oct = data.drop(columns = ['Answer.easy.concentration',\n",
    " 'Answer.easy.conversation',\n",
    " 'Answer.energetic',\n",
    "  'Answer.sleepy', 'Answer.tired', 'Cluster_kprototype',\n",
    " 'Cluster_kmeans'])\n",
    "file_name=\"data_clustered_3_oct.csv\"\n",
    "data_oct.to_csv(file_name, index=False)"
   ]
  },
  {
   "cell_type": "markdown",
   "metadata": {},
   "source": [
    "## 2. Visualize via PCA\n",
    "### Not really intuitive, need to find a better alternative"
   ]
  },
  {
   "cell_type": "code",
   "execution_count": null,
   "metadata": {},
   "outputs": [],
   "source": [
    "# !pip install plotly"
   ]
  },
  {
   "cell_type": "code",
   "execution_count": 14,
   "metadata": {},
   "outputs": [],
   "source": [
    "#sklearn imports\n",
    "from sklearn.decomposition import PCA #Principal Component Analysis\n",
    "from sklearn.manifold import TSNE #T-Distributed Stochastic Neighbor Embedding\n",
    "from sklearn.cluster import KMeans #K-Means Clustering\n",
    "from sklearn.preprocessing import StandardScaler #used for 'Feature Scaling'\n",
    "\n",
    "#plotly imports\n",
    "import plotly as py\n",
    "import plotly.graph_objs as go\n",
    "from plotly.offline import download_plotlyjs, init_notebook_mode, plot, iplot"
   ]
  },
  {
   "cell_type": "code",
   "execution_count": 34,
   "metadata": {},
   "outputs": [],
   "source": [
    "#Visualize clusters via PCA\n",
    "#https://www.kaggle.com/minc33/visualizing-high-dimensional-clusters\n",
    "\n",
    "#plotX is a DataFrame containing 5000 values sampled randomly from X\n",
    "# plotX = pd.DataFrame(np.array(data.sample(30)))\n",
    "\n",
    "plotX = pd.DataFrame(np.array(data))\n",
    "\n",
    "#Rename plotX's columns since it was briefly converted to an np.array above\n",
    "plotX.columns = data.columns"
   ]
  },
  {
   "cell_type": "code",
   "execution_count": 35,
   "metadata": {},
   "outputs": [
    {
     "data": {
      "text/plain": [
       "Index(['Answer.age', 'Answer.easy.concentration', 'Answer.easy.conversation',\n",
       "       'Answer.energetic', 'Answer.game.normal.time',\n",
       "       'Answer.game.yesterday.time', 'Answer.leisure.ideal.time',\n",
       "       'Answer.leisure.minimum.time', 'Answer.leisure.normal.time',\n",
       "       'Answer.leisure.yesterday.time', 'Answer.sleep.ideal.time',\n",
       "       'Answer.sleep.minimum.time', 'Answer.sleep.normal.time',\n",
       "       'Answer.sleep.yesterday.time', 'Answer.sleepy',\n",
       "       'Answer.socialize.ideal.time', 'Answer.socialize.minimum.time',\n",
       "       'Answer.socialize.normal.time', 'Answer.socialmedia.normal.time',\n",
       "       'Answer.socialmedia.yesterday.time', 'Answer.tired',\n",
       "       'Answer.work.ideal.time', 'Answer.work.minimum.time',\n",
       "       'Answer.work.normal.time', 'Answer.work.yesterday.time',\n",
       "       'Answer.yesterday.energy', 'Answer.youtube.normal.time',\n",
       "       'Answer.youtube.yesterday.time', 'Answer.location', 'Answer.marital',\n",
       "       'Answer.meal.minimum', 'Answer.meal.normal', 'Answer.meal.yesterday',\n",
       "       'Answer.occupation', 'Answer.prefer.activity',\n",
       "       'Answer.rise.time.normal', 'Answer.rise.time.yesterday',\n",
       "       'Answer.social.event.yesterday', 'Answer.bed.time.normal',\n",
       "       'Answer.ethnicity', 'Answer.bed.time.yesterday', 'Answer.gender',\n",
       "       'Answer.income', 'Answer.introvert', 'Meal_Irregularity_Score',\n",
       "       'Energy_today', 'Cluster_kmodes', 'Cluster_kprototype',\n",
       "       'Cluster_kmeans'],\n",
       "      dtype='object')"
      ]
     },
     "execution_count": 35,
     "metadata": {},
     "output_type": "execute_result"
    }
   ],
   "source": [
    "plotX.columns"
   ]
  },
  {
   "cell_type": "code",
   "execution_count": 36,
   "metadata": {},
   "outputs": [],
   "source": [
    "#initialize PCA\n",
    "\n",
    "#PCA with one principal component\n",
    "pca_1d = PCA(n_components=1)\n",
    "\n",
    "#PCA with two principal components\n",
    "pca_2d = PCA(n_components=2)\n",
    "\n",
    "#PCA with three principal components\n",
    "pca_3d = PCA(n_components=3)"
   ]
  },
  {
   "cell_type": "code",
   "execution_count": 37,
   "metadata": {},
   "outputs": [
    {
     "data": {
      "text/plain": [
       "(497, 49)"
      ]
     },
     "execution_count": 37,
     "metadata": {},
     "output_type": "execute_result"
    }
   ],
   "source": [
    "np.shape(plotX)"
   ]
  },
  {
   "cell_type": "code",
   "execution_count": 38,
   "metadata": {},
   "outputs": [],
   "source": [
    "#This DataFrame holds that single principal component mentioned above\n",
    "PCs_1d = pd.DataFrame(pca_1d.fit_transform(plotX.drop([\"Cluster_kmodes\"], axis=1)))\n",
    "\n",
    "#This DataFrame contains the two principal components that will be used\n",
    "#for the 2-D visualization mentioned above\n",
    "PCs_2d = pd.DataFrame(pca_2d.fit_transform(plotX.drop([\"Cluster_kmodes\"], axis=1)))\n",
    "\n",
    "#And this DataFrame contains three principal components that will aid us\n",
    "#in visualizing our clusters in 3-D\n",
    "PCs_3d = pd.DataFrame(pca_3d.fit_transform(plotX.drop([\"Cluster_kmodes\"], axis=1)))"
   ]
  },
  {
   "cell_type": "code",
   "execution_count": 39,
   "metadata": {},
   "outputs": [],
   "source": [
    "PCs_1d.columns = [\"PC1_1d\"]\n",
    "\n",
    "#\"PC1_2d\" means: 'The first principal component of the components created for 2-D visualization, by PCA.'\n",
    "#And \"PC2_2d\" means: 'The second principal component of the components created for 2-D visualization, by PCA.'\n",
    "PCs_2d.columns = [\"PC1_2d\", \"PC2_2d\"]\n",
    "\n",
    "PCs_3d.columns = [\"PC1_3d\", \"PC2_3d\", \"PC3_3d\"]"
   ]
  },
  {
   "cell_type": "code",
   "execution_count": 40,
   "metadata": {},
   "outputs": [],
   "source": [
    "plotX = pd.concat([plotX,PCs_1d,PCs_2d,PCs_3d], axis=1, join='inner')\n",
    "plotX[\"dummy\"] = 0"
   ]
  },
  {
   "cell_type": "code",
   "execution_count": 41,
   "metadata": {},
   "outputs": [],
   "source": [
    "cluster0 = plotX[plotX[\"Cluster_kmodes\"] == 0]\n",
    "cluster1 = plotX[plotX[\"Cluster_kmodes\"] == 1]\n",
    "cluster2 = plotX[plotX[\"Cluster_kmodes\"] == 2]"
   ]
  },
  {
   "cell_type": "code",
   "execution_count": 42,
   "metadata": {},
   "outputs": [
    {
     "data": {
      "text/html": [
       "        <script type=\"text/javascript\">\n",
       "        window.PlotlyConfig = {MathJaxConfig: 'local'};\n",
       "        if (window.MathJax) {MathJax.Hub.Config({SVG: {font: \"STIX-Web\"}});}\n",
       "        if (typeof require !== 'undefined') {\n",
       "        require.undef(\"plotly\");\n",
       "        requirejs.config({\n",
       "            paths: {\n",
       "                'plotly': ['https://cdn.plot.ly/plotly-latest.min']\n",
       "            }\n",
       "        });\n",
       "        require(['plotly'], function(Plotly) {\n",
       "            window._Plotly = Plotly;\n",
       "        });\n",
       "        }\n",
       "        </script>\n",
       "        "
      ]
     },
     "metadata": {},
     "output_type": "display_data"
    }
   ],
   "source": [
    "init_notebook_mode(connected=True)"
   ]
  },
  {
   "cell_type": "code",
   "execution_count": 43,
   "metadata": {},
   "outputs": [
    {
     "data": {
      "application/vnd.plotly.v1+json": {
       "config": {
        "linkText": "Export to plot.ly",
        "plotlyServerURL": "https://plot.ly",
        "showLink": false
       },
       "data": [
        {
         "marker": {
          "color": "rgba(170, 201, 103, 0.85)"
         },
         "mode": "markers",
         "name": "Cluster 0",
         "type": "scatter3d",
         "x": [
          -14.459969825948537,
          -20.17016746156355,
          -6.680020549353835,
          -38.768365183481045,
          6.343906918551413,
          22.702090571889975,
          -0.5647738753473449,
          -6.454763920698795,
          3.796719625062331,
          -1.9311792843323483,
          8.912650390569006,
          0.9381062761154346,
          18.188336474212264,
          -19.986769760879927,
          1.779728981388013,
          34.95905344471028,
          11.032067207985351,
          15.490680596334494,
          12.515924563863909,
          13.908937860041126,
          11.508934171928846,
          9.397027650800254,
          -12.634313849091363,
          12.516585259426671,
          -1.149005044385776,
          7.4835893046019235,
          9.6006506872598,
          28.8874978419133,
          13.082481313257793,
          6.9590282201538685,
          -10.318384542911295,
          8.273820876807575,
          7.574861227463439,
          1.4824631557576493,
          -9.590338272720132,
          2.192887521045035,
          -15.239727839322402,
          8.594179317801714,
          4.066025060592803,
          -5.747150732534774,
          4.309177568805359,
          -6.996732258929274,
          9.735941431929442,
          6.975496849976988,
          8.259122653443464,
          3.0832323336698555,
          9.139555785269557,
          -14.440234867577221,
          -12.434199295390787,
          -7.583658951515021,
          11.385513722258281,
          0.5655104045718286,
          10.070442115884203,
          -9.650219407963972,
          8.65434733384712,
          31.898710274092227,
          -16.688942319837093,
          -27.998466939083276,
          -18.54175406110344,
          -13.553683232256635,
          -12.292435219487215,
          -6.0281046551498925,
          7.033341106271704,
          6.429591701334685,
          9.819833175468089,
          3.357670408997741,
          8.449330714147447,
          0.95785512059465,
          -8.585354708815599,
          4.5395434779261175,
          21.4411880133933,
          -28.23746274685035,
          8.221872816799022,
          1.715136006087372,
          8.705400517040921,
          12.464559515548219,
          16.21837412837519,
          -1.0688203167988242,
          -17.61632530170571,
          4.360815348688955,
          4.665550849636389,
          9.986738098629115,
          -6.704566964814335,
          -26.2043655952942,
          -3.752049918492181,
          20.27342820584243,
          5.443316437557404,
          13.243783528883883,
          -15.564213692724046,
          -2.6611333635679677,
          3.227169150369209,
          -31.40098890357917,
          4.678139392154795,
          -0.33052668793035367,
          -14.270698462671428,
          -12.483045292523009,
          -26.62962540752684,
          9.425474479881908,
          -9.192683014961064,
          -15.269801322317333,
          2.4504297447687016,
          -21.968919710952342,
          -12.570239095489177,
          -16.08853579672637,
          11.18038717868757,
          14.06151020828786,
          -5.329594734830681,
          -15.783020230080114,
          -7.564279971398643,
          7.556795163638827,
          8.540917243468757,
          -0.5079809364532208,
          -16.26886591068841,
          -9.316046130981203,
          14.298608138306912,
          9.198742813020873,
          8.14063626580799,
          7.469407225171841,
          12.61367215514276,
          14.729003108773501,
          2.546349716258867,
          -18.33725863403085,
          15.733167054633578,
          -20.409889686982204,
          12.67030984432866,
          0.37307109284151907,
          -2.1228334089261733,
          4.643002804436059,
          7.613870138538077,
          -2.7630392886640487,
          -26.124768051346546,
          1.663577795041585,
          -12.451981823267934,
          6.755074059500154,
          -21.927908968864195,
          3.7064619670751218,
          4.509425867934576,
          -19.59701499920157,
          15.574480405681573,
          11.458684155028084,
          -24.285281709809315,
          24.265749366279284,
          1.7230433118172883,
          2.877406955046971,
          3.8107251082344855,
          -0.5857413276271478,
          5.242832964632815,
          19.89634359146757,
          -2.502758033724416,
          -33.06213017080781,
          7.069536744932184,
          8.446697894176332,
          3.3398358205486987,
          7.4065095115296735,
          16.16805408146051,
          -27.624352191817287,
          9.574574696910597,
          -4.287825122584517,
          4.905374743107271,
          5.837838419402466,
          6.958601463406306,
          14.437995225879435,
          -1.5809426098950876,
          7.615287448889056,
          13.542054604445637,
          11.983790479859612,
          -2.056685952967055,
          14.712160247783254,
          12.570449710631193,
          12.867670790467159,
          -2.557273198042151,
          -27.509384721542617,
          -4.180899679659223,
          -23.652279949581104,
          14.582737481474986,
          7.945596300973647,
          -13.630937444714931,
          5.942193446643226,
          12.704076292106002,
          2.5557454245733258,
          15.157971963992248,
          7.326212497722997,
          9.479906314280088,
          4.514693867963442,
          13.217191368679439,
          -0.21912680013190108,
          17.11046935584993,
          -25.49440811520736,
          -28.29818707995739,
          26.83206217315435,
          -0.05960618481870951,
          13.448074175014533,
          -2.908830555318176,
          11.9009918219137,
          -17.22773344162346,
          -1.5650164581677868,
          -26.178805688516892,
          5.974440047949544
         ],
         "y": [
          14.020554465810848,
          5.669279474910066,
          0.39950685682094833,
          9.182435511202145,
          -7.119916669838362,
          31.247465917109672,
          -6.0659989538334855,
          0.1549272617782068,
          -0.3151365328104923,
          -4.605039628615568,
          -11.721634365681442,
          -5.727699979295816,
          19.743514483522667,
          5.532632000955392,
          -4.246189230720351,
          46.95322017203174,
          -12.9373876558918,
          3.1615650157830673,
          -4.347381742302486,
          -6.770315385640808,
          -9.79272178814022,
          -2.8819285644892796,
          -0.27861341156067,
          -7.454721666716206,
          -0.20393361417334624,
          -5.5427962909822694,
          -12.514454926147193,
          41.54854018011399,
          26.668690738908907,
          -5.644904761961591,
          0.6460114354951306,
          -11.597784831840034,
          -6.145053512889547,
          -3.9924186252043627,
          18.89186926435578,
          1.3261360309591665,
          -1.8833475219683757,
          -1.2331768105638738,
          -9.143703445607072,
          -2.052708382126831,
          -3.094029609212161,
          -1.0752177937528824,
          -6.074439869599039,
          -7.052660227087352,
          -8.872041539752853,
          -8.248155779913667,
          -1.9195187633833468,
          -3.428269000850868,
          0.45832463560078934,
          -1.0904415265821163,
          -4.540948111899533,
          -0.7556700051145722,
          38.76503027051359,
          4.60559414564518,
          -10.514397074295651,
          39.71922909932264,
          4.711186859568288,
          9.186845535035571,
          11.791337806228068,
          10.016063013726063,
          1.3910794591065037,
          0.0284626991325941,
          -9.24774704364464,
          -10.937321594558869,
          -4.53677782266484,
          -5.912881457502482,
          -3.096190689362507,
          13.515503626791519,
          1.4617855234239394,
          -6.478252830891595,
          27.91674899569063,
          6.4821554996349064,
          -8.460709994926344,
          1.1389763202760856,
          -9.274221988081996,
          -9.200008077640978,
          -4.484409936021208,
          -5.625492901147915,
          0.3439309506103125,
          -8.33658703925226,
          -9.236682106274497,
          -7.451662245039814,
          -4.618860165400466,
          7.8853197264855055,
          -6.431176490360348,
          19.07253767320784,
          -8.59913214185473,
          12.664915329802177,
          -1.9983422116421337,
          -1.8412429344011543,
          -6.160018890004211,
          8.316448880461246,
          -2.391822361892563,
          -7.453336224378582,
          2.4040922834328984,
          6.801702750638937,
          11.911457546312803,
          -4.226344858353758,
          -3.2863038578520998,
          7.94528696091636,
          -5.928968978505047,
          4.583407276071379,
          1.6279079444382167,
          4.120570989816062,
          -6.7622395104955295,
          -8.853726981834352,
          -1.4055244909971605,
          6.383375269488025,
          2.673736294598966,
          -7.922370460214828,
          -2.8499308598125124,
          -7.8948082042827865,
          5.748377275211684,
          -1.5773060943578212,
          -2.7683195699336323,
          -10.963015782146332,
          -9.20455841938086,
          -6.351964134756047,
          -5.09356096684248,
          24.29607037461665,
          -1.9198964807235448,
          4.77961762814483,
          9.705397011269556,
          5.7696358078472585,
          -6.13971702524562,
          -3.141470680491821,
          -3.027610759058343,
          -3.274221686917295,
          -8.408824451985728,
          5.880486782487102,
          4.071902984163503,
          -5.237665240708326,
          -3.683528729721954,
          0.9931387461678063,
          4.813223828540264,
          -4.8728319476125455,
          -7.434532264178231,
          6.304829185600448,
          -4.958392850650263,
          -8.642362624439333,
          3.0538935240098724,
          16.457662192120793,
          -2.7962713651403126,
          -0.39602075231166456,
          1.8246019388090755,
          4.908604194263844,
          32.218428779802196,
          18.403212958864767,
          -7.013120505670791,
          12.926898266548054,
          -5.121062533509285,
          -9.478862964929242,
          -5.13848254052775,
          -5.679302424316947,
          10.187077494266424,
          8.975184233285212,
          -3.2593352778550333,
          -6.40102204319079,
          0.6329292679193453,
          -4.319424220304095,
          -7.06089141260118,
          -8.183481217916052,
          -1.6677819478204163,
          -6.105743611883783,
          0.026080904208755765,
          -12.786707978475706,
          0.4962888505422726,
          10.050512572395453,
          0.5954659016687834,
          25.046867809452536,
          -1.380064795850847,
          4.0920664347269105,
          -5.259742093684759,
          10.214546957756479,
          2.837015239663389,
          1.0834200439378932,
          -0.45239920216623053,
          -10.568490878605443,
          0.4408352850505829,
          -5.185088458477281,
          -6.181100676410461,
          -6.900268112424314,
          -7.317749359531565,
          0.9113480886044732,
          -6.472132772306974,
          -3.482995913509205,
          -7.769907320386184,
          8.850458918458733,
          5.336713553090842,
          32.76816716821815,
          -5.75975202442616,
          -9.591953121935012,
          -7.435822543937646,
          9.323050734402647,
          1.6962078818996615,
          0.17956939107571523,
          4.124704411368623,
          -7.2223782878009954
         ],
         "z": [
          0.5752231290335408,
          9.839733681864805,
          -0.1535147986080426,
          3.6593896232938508,
          -0.8399350395330532,
          0.2555352991857161,
          4.236352198656161,
          5.251954786619904,
          -2.7893868992422517,
          3.533191796605552,
          4.491739762512833,
          6.016251715172215,
          -2.0354730517149124,
          13.075738621872746,
          4.45405402583047,
          2.4337968290652854,
          4.957802064715114,
          9.208242096191015,
          6.284642026604263,
          3.4440231974815045,
          7.466304671857326,
          5.995340036571214,
          1.73419920432246,
          5.282735274294932,
          5.210194651382063,
          -11.176843776829566,
          1.5026317973488068,
          3.0249301306743583,
          -2.17334870180153,
          -2.6967338200717927,
          -5.005404423599864,
          4.455796324048997,
          0.6148420345149912,
          4.4905552717806625,
          4.841959327095613,
          3.2072066004895117,
          5.394178330865283,
          2.787731703250838,
          7.327070370848662,
          0.4744411826604254,
          -0.03212655555042037,
          3.3345390819017675,
          6.549412210029431,
          -7.167810321398827,
          1.1293173681479158,
          -7.864777539218442,
          -0.17444307835057798,
          -1.353555188347387,
          -4.136835835397851,
          -1.6487768455505052,
          2.3613461238467637,
          -4.68527567425917,
          3.6582171533599963,
          -6.907900374095156,
          -7.256929345651151,
          2.066772747440251,
          3.8808573060394296,
          -0.9063566957685855,
          3.807124867963901,
          5.807096911436899,
          -6.581272294612994,
          -3.2631599100704736,
          -7.010864503962694,
          5.0738666204553,
          0.5386354711417725,
          6.345135264812534,
          1.825218769727741,
          2.2416977901004507,
          -2.631454752217994,
          1.4621310149529625,
          1.9498498517278244,
          -0.5488179058876478,
          -0.9397167656909973,
          0.5786477316609793,
          -1.860104249491861,
          2.7571662413462326,
          5.845391200377295,
          5.180637514861569,
          1.0415300184393648,
          5.015818133907261,
          4.516027679710478,
          -9.738330396908564,
          -1.0050544622380944,
          5.140754717148483,
          4.857287199505559,
          -2.5061530950558755,
          -3.501663337511582,
          2.0516942327249352,
          -0.6660635013707711,
          9.16764302684237,
          -5.873749427208567,
          3.936928812387174,
          -0.4232064367560887,
          -0.502704718015547,
          -6.620763998296596,
          10.411545248971095,
          2.035997337423547,
          4.444238964734149,
          4.585432835661873,
          1.8702843634355044,
          -2.035857975953453,
          -6.18027369874899,
          3.7299127652256874,
          -0.3683080025304127,
          -12.771527830910609,
          5.213484531655896,
          1.1596397022703646,
          0.6151084411486296,
          3.624754535644092,
          -1.5698510427512025,
          -0.9102328236466024,
          1.9354747576208302,
          -0.1755617754829059,
          -5.207376506479255,
          1.8792955485756373,
          -0.49013617191322045,
          3.109090597888916,
          -5.499620223741817,
          -5.348116059661963,
          2.257408641538163,
          -9.51712800643324,
          3.9718856932831477,
          0.9633070506425467,
          2.6980109807379207,
          3.3592929842219865,
          -0.14288143771938755,
          -7.4376728850535585,
          -6.730086548852709,
          7.466985596237043,
          -0.6701407224240358,
          2.278858891016244,
          9.385902937934022,
          -4.844980569856578,
          7.442281999016021,
          0.5340373627858034,
          2.5258074918868934,
          -7.339592940408508,
          13.65946376174262,
          4.787211511910162,
          2.1578036222652885,
          1.9688181958800808,
          -1.0588106779651991,
          -2.606664839364975,
          9.524655564809713,
          -7.672744748250626,
          2.665299351157691,
          -0.6672948334170776,
          0.9827502181213275,
          0.4890240318368891,
          -1.8776418847451595,
          9.183799291646487,
          -2.9594057502823055,
          2.5119923801413027,
          -11.9135343565985,
          1.5784761284061428,
          -6.82807840743624,
          -0.28558444805416766,
          -1.4138918742152249,
          -0.03860422538704604,
          13.552423988012325,
          3.144415599611463,
          1.1187157301918194,
          5.7423611084687645,
          -5.706094495757749,
          0.10240551025304458,
          3.3298357856703253,
          -0.17733215009547676,
          -1.3986350979400692,
          -0.32217012531655115,
          2.865362924270826,
          6.416607771481371,
          -2.3085719239396894,
          -3.6870445490156922,
          6.203690392447247,
          0.5967421652236233,
          2.7931487636402363,
          1.1239166746325917,
          -2.1465115413363387,
          -9.694332326437662,
          -5.254328867472981,
          2.6047786509471047,
          -5.886422855094279,
          -3.089561040308041,
          -4.496789975164342,
          6.527729146997583,
          -8.519471103378816,
          -4.833893041049198,
          1.1604689736118456,
          6.126146867341265,
          1.1113453953338157,
          8.567898667053477,
          3.3478025914885348,
          11.880964308724614,
          4.007077072368021,
          -0.9146663009781937,
          -7.53415142971391,
          0.2983310387873724,
          5.848833891024806
         ]
        },
        {
         "marker": {
          "color": "rgba(103, 146, 201, 0.85)"
         },
         "mode": "markers",
         "name": "Cluster 1",
         "type": "scatter3d",
         "x": [
          -10.578568965933577,
          -12.429358411394972,
          11.329246297627106,
          -6.912349091701183,
          -6.2153120709776255,
          -0.23614111130970863,
          -22.970064210093806,
          7.951274865811367,
          12.068077059263233,
          -2.3043630939246453,
          4.271700076009864,
          -22.402816640486957,
          -6.885061378892623,
          -16.231657156823157,
          -3.237105072621218,
          -9.388448717418283,
          3.080662820271858,
          -11.539634512831773,
          -5.247037189072265,
          0.020177969394970175,
          3.5555994858419058,
          -13.47924846417939,
          21.831268987063,
          12.521206480923423,
          4.399026055992726,
          -1.1824266100070389,
          0.46184613473869374,
          9.638483150183815,
          9.86382528173829,
          1.1536304334008223,
          -3.426207597552038,
          12.850175471159186,
          -2.826303582979043,
          -12.28331420451038,
          -0.03563083897532978,
          5.294318159350571,
          -8.392154043966526,
          8.96574371423179,
          30.448960479138684,
          5.724087795590749,
          -14.163137571158453,
          7.86003030210862,
          -2.4933173894753273,
          -0.6150069268877358,
          -1.1518615433528467,
          9.73380044871082,
          11.481015258002989,
          -0.006063274377126708,
          3.4257311682505325,
          1.292479390995183,
          15.499198233337369,
          14.25622469886967,
          -14.376728617530151,
          13.285340109930642,
          -1.1709700144845767,
          -6.027432272972622,
          -3.6600190334013547,
          10.368526240253503,
          -1.8813097048688474,
          -1.1843012102514032,
          11.300244504980238,
          7.33261878310699,
          5.023588200363792,
          -6.615805745245507,
          -12.557754564931711,
          2.277712037383224,
          7.172080954601297,
          4.828921233389316,
          -11.061700059342161,
          2.0468659865079823,
          1.139315172758085,
          -9.03263205563791,
          -1.9334505944478402,
          -10.25940124726771,
          8.52112422309972,
          -26.39741976936723,
          -3.5983933542415247,
          14.912837774070411,
          5.822134738547046,
          -0.36922479152303495,
          -20.321041828418284,
          -22.668232279027734,
          -14.155903541159594,
          -0.43290791154347563,
          3.747498220957955,
          -3.359803296632708,
          8.521271319005727,
          9.682243541137892,
          -2.3517399584742282,
          4.547607274873315,
          -6.2980275851416065,
          5.506307737887366,
          6.076137864123667,
          5.396003652065533,
          -9.639291612667334,
          -18.517657020965718,
          -9.514746268940371,
          -16.17724840446383,
          -2.1201171169877027,
          7.5459640373296155,
          23.21898709137535,
          12.589957226873917,
          -3.2894364280765527,
          -0.2275253970996343,
          -1.3597474081559902,
          -0.06027965071383541,
          -5.761565876873726,
          -17.287670101598277,
          -10.342594563173165,
          11.909009293918151,
          11.937095643137386,
          6.634501611075586,
          34.17240720217748,
          17.682870964817585,
          -6.025892959153591,
          -7.702529697434515,
          -11.181172699148295,
          -26.641864948659055,
          -12.902800143933714,
          -9.58894048319843,
          18.84254120210447,
          -6.672840718172333,
          0.3025081483536445,
          9.968023901277824,
          -1.7861670529597347,
          3.957933335699258,
          -11.987285948635982,
          10.732015656192718,
          -28.896077455773455,
          -9.306703785068473,
          -2.154114139827255,
          -3.8345199714319227,
          -19.039129411796836,
          3.5018816517053057,
          -4.423015355667964,
          -5.5706548094117405,
          12.861355264479153,
          10.454538195501241,
          16.247997368825093,
          -1.7557522860959698,
          -6.775450382765086,
          -1.6670298291461751,
          14.35233842150495,
          -2.135448988800265,
          -0.2114388455814162,
          7.640400577382951,
          16.461193257051498,
          3.3489323547583623,
          3.9069885006402347,
          6.735646886478055,
          -0.38393628698043336,
          15.934352309016516
         ],
         "y": [
          -1.7419715845658301,
          -1.072693372900567,
          -5.1611914151985365,
          -1.6929201188748815,
          -1.3748200593054811,
          -1.826398090933745,
          1.5067322849965707,
          -7.08246899375855,
          -7.9810712254943,
          -3.045691099295641,
          -7.484498780465159,
          3.78395602552192,
          -1.4661578712463659,
          0.8119966700067647,
          -2.356591827487316,
          1.7261862576245712,
          -7.739377226143756,
          1.35841914297485,
          -0.6635221397339018,
          -5.68074520647281,
          -4.43754082710235,
          3.5126556697912745,
          22.085121743932014,
          0.1023004748629681,
          -6.832693091454468,
          3.1771328149804634,
          1.7661604630083392,
          -8.678054305088825,
          -6.3605002160309745,
          -9.125803424322878,
          -2.5635358276969726,
          -1.4569734255901448,
          -2.8403212852962065,
          -8.795519128621377,
          -5.657371654024262,
          0.8616832694344183,
          3.597874442904866,
          -11.6622163024747,
          40.85497146585247,
          -7.902011113666587,
          -1.328922662182191,
          -7.767661190690582,
          -6.8783275151766645,
          -4.501977485139226,
          -3.776530832576953,
          1.9758137310684583,
          -4.389762130394564,
          -4.0985998059542466,
          -5.037692371153849,
          -7.465822346778441,
          -8.897257510777278,
          -0.7647588983348869,
          31.4497727773151,
          -9.763722172653507,
          -8.692770187642115,
          0.50439310603947,
          -1.7062650358596858,
          -1.9120059478550078,
          -6.450736544443851,
          -3.746490545511594,
          3.4089055056074287,
          -10.322805638588726,
          -7.107153386436458,
          -0.00657814264628301,
          1.6114622882653011,
          -4.585853088555099,
          4.907020768680705,
          -7.984966618205458,
          1.9148878435339345,
          -8.440111477714918,
          -4.842693037537139,
          -1.0134184980080383,
          -0.4411754916412253,
          -3.3080446808154518,
          -7.1131655418392805,
          7.889008467309685,
          -0.3941697571999017,
          -3.9145232474302962,
          -9.197131458146588,
          -1.877396845216893,
          7.9203723887493185,
          3.316334327829986,
          6.77680406739006,
          -2.7817638250134027,
          13.472641600557951,
          -3.19974491412802,
          -6.693730859385123,
          3.360248742145111,
          27.199620593027106,
          -5.586811718813391,
          -6.79589041533399,
          -2.620087127889732,
          7.222614599310587,
          -4.672468579164195,
          0.04779711438726443,
          4.380836274226114,
          0.4343371375109595,
          4.014207652265115,
          -3.8354034349052357,
          -5.487185680573515,
          32.140278783521424,
          -7.163813502322521,
          -1.9454989296061962,
          10.115609387926158,
          -7.58578743665036,
          -0.7756917490896124,
          -6.361477232795705,
          5.503438626598816,
          5.903893055069461,
          -3.8944302685644807,
          -5.510453763660976,
          -10.627867402308569,
          45.638218961745416,
          -1.1430537712599524,
          -1.2434369376878975,
          -3.593636077453307,
          1.0894514626292493,
          4.206146481063414,
          6.947217315663007,
          3.018520910290024,
          18.280776808066435,
          0.4192467868732956,
          -0.131156844055895,
          -6.649680477813499,
          -3.3500900895179595,
          -4.355222844607047,
          5.1433706012276925,
          0.1722700078351152,
          8.564414213662259,
          -0.811780287162575,
          -1.6486295913474776,
          -2.0924078160631936,
          6.029422507941918,
          -2.5366091451410626,
          -6.321936260122169,
          -1.2025820538210423,
          -10.446668137599458,
          -13.977515582040859,
          8.897231485611995,
          -6.487208133374009,
          -3.3126175283367822,
          -6.331993803923931,
          -4.752467113708771,
          -1.1893540570470784,
          -0.2559655319128908,
          -8.318936951517033,
          -6.645626876608109,
          -9.301991162614144,
          -7.90522095296213,
          -6.938899545903237,
          -5.64436615701998,
          -7.826850144252197
         ],
         "z": [
          7.379914616102802,
          10.235127812786704,
          -9.139236864693835,
          5.923854706662923,
          -0.11744021663232482,
          -3.185223810365834,
          12.309328751032664,
          5.525406667391003,
          5.725935883221417,
          2.1284304832469294,
          2.1545957758632532,
          6.862705269053264,
          6.502254552361388,
          4.04792461025223,
          3.75276871301752,
          11.111585037720799,
          2.121410373234908,
          -0.8067170613633189,
          9.428753353194791,
          5.9162317636765165,
          1.1407801925341214,
          -5.068446238235823,
          3.653541869292451,
          7.947725495047288,
          1.4993357500517044,
          9.466214635860922,
          10.201977148039408,
          7.814596794071603,
          9.395193553696885,
          0.3822866336407726,
          2.4856191935108067,
          2.6918954450208266,
          -2.56777716125428,
          -2.448434249126261,
          3.711668663491866,
          4.091906802270961,
          0.9857916109196563,
          3.5535524574500053,
          -1.2921491041636681,
          -2.0141430063445758,
          0.6788931538478009,
          5.002578889804251,
          0.4583658880394307,
          -6.212843896499221,
          -0.11374018601421634,
          0.9982722626575438,
          0.8657535194749914,
          10.644033290708588,
          -8.270160765862848,
          9.14110483647645,
          -1.0483359085402892,
          2.343343984288722,
          -5.955445741336338,
          2.357136568419065,
          1.3724848124876368,
          7.982550803883353,
          5.392537560981349,
          -9.640090576532803,
          5.0545025606539475,
          8.027292867322084,
          -2.3291927613195074,
          -9.61230095911699,
          -3.063124793790084,
          -9.134034997683928,
          4.407474477481452,
          5.5106817833071595,
          4.41377573100737,
          9.261028496676499,
          3.2336877372005475,
          7.43073584652392,
          3.9752345256060204,
          7.302799402957678,
          -4.623446186835501,
          5.519253232529802,
          -0.07057189908118328,
          0.6310660629322088,
          1.145982970019135,
          -1.1239136915347885,
          4.112952046657858,
          4.200163710457029,
          7.118613654894002,
          5.991335645610759,
          9.28430973991724,
          -1.0743631205743351,
          10.10931838360546,
          -4.435372445334839,
          6.955892837133527,
          2.282592060530356,
          8.38306341324092,
          4.480366961803071,
          3.1909325778665485,
          1.1860927220849842,
          -5.691203149696322,
          1.4350295824988621,
          3.0414245863381257,
          6.497850543395269,
          -7.56208653638147,
          -11.404084844526471,
          10.404177383726164,
          11.797441428045147,
          0.797775262380992,
          6.337584346944119,
          3.580840851656303,
          -2.178783924827571,
          1.1518494963565655,
          2.248317662740775,
          6.09838861964978,
          -7.239262228277208,
          -6.781956836788477,
          5.046016734844562,
          -9.214890074074644,
          -7.376078270990407,
          -1.229316778646072,
          7.702306319838126,
          5.7317158722777215,
          11.924379447126844,
          -5.287419335148616,
          5.447443894028241,
          -1.5292039008141127,
          6.092941787568432,
          1.604573072428025,
          11.247608936411124,
          -6.913829691909469,
          -2.4277976082528383,
          -1.3271895241949956,
          -8.009794763064445,
          -10.307022680586176,
          -3.845258166457671,
          -4.61836019952406,
          -9.339879383716296,
          6.5411688130563155,
          5.160537625469551,
          4.019512341920514,
          3.9671684075326477,
          12.51979321249057,
          6.060323582508707,
          2.869993325463884,
          4.9498588999524875,
          -0.9378895603047779,
          4.330318291576851,
          -7.012035914118899,
          6.577379663878504,
          -1.5188768821643597,
          6.882839424811312,
          -1.2472360738261512,
          8.501596009726462,
          9.111115528409897,
          4.144779152428696,
          0.7861027004506188,
          -10.840565436754455,
          2.4912450278347937,
          5.961155245463225
         ]
        },
        {
         "marker": {
          "color": "rgba(201, 103, 110, 0.85)"
         },
         "mode": "markers",
         "name": "Cluster 2",
         "type": "scatter3d",
         "x": [
          10.413079355616452,
          7.609347986149971,
          -18.649736281294363,
          -11.34399768215523,
          0.43128383197413256,
          -10.122946452865193,
          6.28821982852883,
          22.627292791527505,
          2.476176399445722,
          -7.695615887905084,
          -26.19551105123058,
          12.478583708577018,
          -26.55892766381339,
          6.969955373532572,
          -24.449819032624323,
          7.880811289762686,
          14.349521565693724,
          -7.938497195290354,
          11.87196799158885,
          0.6605592385603313,
          8.216276139251722,
          7.076625959640326,
          -4.360626174791569,
          -27.934692022870045,
          9.7823731380655,
          7.799443835123497,
          -19.396869925231766,
          -4.918559480081096,
          -8.665700753167481,
          23.827316555469004,
          0.9648341726522539,
          5.818114890666352,
          2.496290071188334,
          -10.625242110257686,
          -4.33456175469739,
          -2.988562694245264,
          -6.51791547337971,
          -10.895779228973938,
          -11.805579358608098,
          9.242030360884247,
          2.741600744725116,
          -25.240302881698657,
          -8.222451723077928,
          11.902260594685474,
          -17.849413231822734,
          -17.071932886598436,
          0.7029347256493067,
          -0.5045870163941628,
          15.610431233673543,
          5.066856260181145,
          0.10199359272912596,
          -10.192596787595772,
          5.47556942749476,
          -4.828293577575555,
          4.444087272933871,
          -8.040629062495725,
          8.89053227669153,
          4.814154869164578,
          39.71009373278253,
          5.790462391026527,
          15.051451759716286,
          13.104301478544707,
          14.110446200409287,
          -0.7887758396342455,
          7.1951552882783645,
          -0.8167308949800173,
          12.385341910228924,
          -3.7122678091084382,
          -9.490103467826234,
          -20.274412596987926,
          -5.772869733415279,
          -4.327726251558389,
          11.371227632799902,
          11.162321587362193,
          7.749887726571753,
          2.6897172026327496,
          0.2502305348809197,
          -6.552451233578193,
          -2.8673577148322646,
          12.568429488701497,
          -8.508184876066302,
          2.3083666387552584,
          3.9703709633171096,
          -6.699475946031376,
          -18.926684670436735,
          -0.3406580059050967,
          -15.108644152357002,
          -23.788304286523818,
          -27.903950578039737,
          -30.19178427791597,
          13.644705173422594,
          18.743295314124985,
          14.124230678347198,
          -5.4821236069667085,
          -17.807980312963135,
          -10.54498014386116,
          -15.833077580251377,
          -23.650155064529105,
          15.738096922034286,
          11.137902484154369,
          -2.0653914244300307,
          9.647137802481897,
          -22.95124493193486,
          6.910413321224187,
          -19.647819966647475,
          11.176522421996452,
          -11.112415854086002,
          1.5022085052645455,
          12.325998928913988,
          12.85566870365997,
          7.703913992609964,
          0.7066965578768267,
          -22.421451861814973,
          -21.052998579767035,
          13.989724548531827,
          20.06575545339971,
          7.2525399872831775,
          -10.99806029206152,
          3.1173181938526016,
          -27.538739161973233,
          5.392307086897058,
          6.0072593175691935,
          18.8885060979695,
          -13.058198076002958,
          0.11342412719351369,
          3.5037800281207288,
          10.068923415332728,
          -8.723507546024077,
          -3.2177157164579326,
          -3.3349234675919406,
          12.280981033166256,
          7.419910961374673,
          10.727012164611565,
          -4.6013872814142305,
          -14.22918918229151,
          2.4836591976200078,
          -3.1702588536504037,
          19.407868632909015,
          7.05846911184173,
          -27.590544832461042,
          11.512362572327515,
          10.82514273811868,
          -29.154046237921285,
          -0.2998432926164006,
          15.394535855656125,
          14.044407012833007,
          -12.331870279101885
         ],
         "y": [
          -12.79303781844261,
          -12.541917460221098,
          3.4179021059138184,
          -1.0767914891074997,
          -5.076347633261261,
          -2.6629848607330002,
          -4.862257288418616,
          38.689439495136796,
          -6.376525729251973,
          6.330845308079901,
          12.18792004822142,
          -3.8363233460970303,
          4.647913852920629,
          -0.2323187521425959,
          5.095993280895663,
          -8.881708898895312,
          -8.124870444035656,
          1.6668786098587038,
          13.203645355282093,
          -6.317762423051269,
          -0.16265905094889008,
          -6.467915691887171,
          -4.209887260592233,
          13.547706185302621,
          -10.137661415462759,
          -5.595812512596266,
          6.327484521152879,
          -4.359667407856447,
          2.926391889892764,
          28.700510200820876,
          -6.199886471641825,
          -6.438914198887952,
          -6.375627527857157,
          0.22722156694679743,
          -4.5268630515076795,
          -5.906922471132523,
          0.056943838309411535,
          0.5578371019338797,
          23.516493097336117,
          -4.9150983137697795,
          -3.236171293503163,
          0.4856500037154484,
          5.93483303382738,
          -11.969436826958207,
          8.973930188910252,
          1.7999223117034073,
          -1.6974981549813857,
          -4.392732353493277,
          8.607324815958611,
          -1.9325608843651416,
          -3.7486087729101563,
          -2.4703723819249777,
          -7.133803018837914,
          -0.8424156814567539,
          -6.24013560134529,
          -2.1346133624497927,
          3.761757280943382,
          -4.615249099254167,
          71.9046342345363,
          -2.6737199566891294,
          -4.17212652502235,
          1.4633786503703297,
          -7.786429636763619,
          -5.634322041892501,
          -9.266974982037201,
          -4.910385360619519,
          -8.091280992626539,
          1.7002429167391238,
          -2.646519746337391,
          3.07226451709177,
          -4.859072904947493,
          -0.360256065182993,
          -6.380128251518883,
          -4.242114963511398,
          -4.158210395703573,
          -2.695105595186882,
          -0.28810689920514,
          0.8863414420877216,
          -6.239050042484419,
          -12.72917637993356,
          -0.8924190321741208,
          -9.221761339304983,
          -8.38674006996753,
          -2.4788118233524647,
          1.3203430117937602,
          -11.515093370436194,
          -0.33463471365543374,
          5.916174724452243,
          9.020807260262174,
          10.714668960946408,
          2.714994571069568,
          18.65980469219438,
          -9.98455143018042,
          11.580791449192606,
          8.62023681389501,
          -3.5153749969391166,
          3.4172648277708575,
          6.512408098401929,
          24.52814320833709,
          -3.539733521511361,
          -0.5765723672680005,
          -7.4059269261896254,
          5.755445121514088,
          3.6863268210948243,
          7.651627073303474,
          -11.304029705886254,
          -0.25070266631101146,
          -1.8905448872138546,
          -6.876158966678454,
          -7.804241755576648,
          15.32373740850505,
          -6.739764494195219,
          2.748253834700304,
          3.837288973288447,
          -7.9163119947385905,
          33.72496157461379,
          -6.0771101643059575,
          -0.06728961479920169,
          -6.370398158233061,
          7.0805150132108965,
          -8.434634579792972,
          -5.757569790051973,
          -3.2960510042258884,
          5.669095982762752,
          -9.351576938339372,
          -0.6199441592106488,
          -10.50521553687267,
          0.11788653574852767,
          -2.4443775630306375,
          -6.6159278599585285,
          -8.240835445363047,
          -1.3710824641834463,
          -3.1939645773761045,
          -1.3025043516988084,
          3.6892479256800446,
          -10.08067739675685,
          2.1324441378915613,
          -4.89790975673357,
          -9.181874862511854,
          15.923509477931148,
          15.455465636199513,
          -10.666617212256263,
          7.307353528478953,
          -8.748733544104747,
          4.348644974067731,
          -9.958783684823594,
          -0.5815375408516353
         ],
         "z": [
          -13.24383748549003,
          -9.41685716130508,
          -2.0056979318715453,
          -4.873018750095002,
          -4.975002571609515,
          3.453704676036702,
          -3.227018822944281,
          -2.940617834597604,
          -11.545739837974905,
          -7.153363951215247,
          -10.268389178957525,
          1.7478642320075406,
          6.513971296434804,
          -9.447658071304101,
          -2.006659432163039,
          -1.3305885930466557,
          6.792980198100433,
          -8.2236781815199,
          -0.34634358378520846,
          -6.650407191365823,
          -5.3869777634364295,
          2.25982790324549,
          0.8605902873437237,
          -10.327671234810554,
          1.6154600436362059,
          -5.812453506481319,
          1.1975193286902706,
          -5.43610822651164,
          -3.3139931844164177,
          0.11761453932518903,
          -6.739820258484857,
          2.361921955952008,
          -8.433614800178232,
          6.270536589265176,
          12.681249275065227,
          1.0900460089764363,
          -10.065362414969798,
          -10.034581600937392,
          -7.7897938001691225,
          -8.877461577463103,
          -4.196696044982201,
          5.4266689146479825,
          2.3425939621361542,
          -1.062937883757472,
          -9.382154633459026,
          -9.377919535627246,
          -8.552848317175652,
          -5.8109214971337675,
          2.5055457854335725,
          -6.368241651112605,
          -1.489211154224471,
          2.674904798424763,
          -11.643786022430124,
          -10.811802745048462,
          -7.0636565434435505,
          -11.707881698454557,
          9.194704947353161,
          8.016378578091816,
          -0.0037225561994123258,
          -7.775780599045474,
          -8.857466451103262,
          1.2150909673935621,
          -11.097323873929827,
          -1.3206461208909264,
          -7.677408413512197,
          -8.85473884638611,
          -2.8151720384428556,
          -11.715971177671864,
          -1.9558673540623834,
          -5.636031290061738,
          -1.9484713181795545,
          -7.995299154400634,
          -8.401254328571907,
          -3.8564142310334435,
          -0.5108976292632091,
          -2.8674403219108546,
          5.737669729318349,
          -0.2377328114768278,
          4.624111012595433,
          -0.7476255816180628,
          10.584122069927425,
          4.186875712563382,
          -10.474802344060025,
          -10.91518232134684,
          7.7303660513758246,
          -0.74322321831882,
          -2.0466058876181865,
          1.954740725717824,
          -9.632615143257075,
          -8.68363352286195,
          -10.896733943380205,
          -1.574027499110538,
          3.1125908126993362,
          4.925161025802897,
          -5.803032148056397,
          -9.113619370073138,
          -7.954902955280778,
          -9.30982259510602,
          -0.649778570912453,
          -4.053993957389895,
          -11.187012610293056,
          -12.98468231571817,
          -10.987886864905082,
          6.159881078381345,
          -10.58423141203615,
          0.11460085981365525,
          -8.573858048355284,
          6.88885056037655,
          -12.378226547244303,
          -13.51071279935996,
          3.761190424390866,
          -7.561082414374587,
          -3.107789644584849,
          9.152876684685161,
          0.5143536837766777,
          -3.588267241806003,
          -11.396982403213622,
          -7.970374970663098,
          -5.527873033590636,
          -9.083535140494613,
          -3.2525070619101517,
          7.04711773298455,
          -9.859215116818964,
          1.0778331876072704,
          1.5053159920496264,
          -6.820240953303011,
          4.744341858225001,
          4.076447125016416,
          -9.292219233062632,
          -0.7418611365244328,
          -8.549413715356751,
          -9.374150865059205,
          -12.129725574670287,
          -4.527876515341715,
          -1.0199887574812367,
          10.313237715489972,
          -11.474154714288414,
          -5.079095361063125,
          4.059143855970093,
          -5.92424500881802,
          -2.8906658081123178,
          -8.140011145068442,
          -2.073709905872389,
          5.520214031142696,
          0.9173301616121678,
          -1.0191216652423103,
          -9.356144804912184
         ]
        }
       ],
       "layout": {
        "template": {
         "data": {
          "bar": [
           {
            "error_x": {
             "color": "#2a3f5f"
            },
            "error_y": {
             "color": "#2a3f5f"
            },
            "marker": {
             "line": {
              "color": "#E5ECF6",
              "width": 0.5
             }
            },
            "type": "bar"
           }
          ],
          "barpolar": [
           {
            "marker": {
             "line": {
              "color": "#E5ECF6",
              "width": 0.5
             }
            },
            "type": "barpolar"
           }
          ],
          "carpet": [
           {
            "aaxis": {
             "endlinecolor": "#2a3f5f",
             "gridcolor": "white",
             "linecolor": "white",
             "minorgridcolor": "white",
             "startlinecolor": "#2a3f5f"
            },
            "baxis": {
             "endlinecolor": "#2a3f5f",
             "gridcolor": "white",
             "linecolor": "white",
             "minorgridcolor": "white",
             "startlinecolor": "#2a3f5f"
            },
            "type": "carpet"
           }
          ],
          "choropleth": [
           {
            "colorbar": {
             "outlinewidth": 0,
             "ticks": ""
            },
            "type": "choropleth"
           }
          ],
          "contour": [
           {
            "colorbar": {
             "outlinewidth": 0,
             "ticks": ""
            },
            "colorscale": [
             [
              0,
              "#0d0887"
             ],
             [
              0.1111111111111111,
              "#46039f"
             ],
             [
              0.2222222222222222,
              "#7201a8"
             ],
             [
              0.3333333333333333,
              "#9c179e"
             ],
             [
              0.4444444444444444,
              "#bd3786"
             ],
             [
              0.5555555555555556,
              "#d8576b"
             ],
             [
              0.6666666666666666,
              "#ed7953"
             ],
             [
              0.7777777777777778,
              "#fb9f3a"
             ],
             [
              0.8888888888888888,
              "#fdca26"
             ],
             [
              1,
              "#f0f921"
             ]
            ],
            "type": "contour"
           }
          ],
          "contourcarpet": [
           {
            "colorbar": {
             "outlinewidth": 0,
             "ticks": ""
            },
            "type": "contourcarpet"
           }
          ],
          "heatmap": [
           {
            "colorbar": {
             "outlinewidth": 0,
             "ticks": ""
            },
            "colorscale": [
             [
              0,
              "#0d0887"
             ],
             [
              0.1111111111111111,
              "#46039f"
             ],
             [
              0.2222222222222222,
              "#7201a8"
             ],
             [
              0.3333333333333333,
              "#9c179e"
             ],
             [
              0.4444444444444444,
              "#bd3786"
             ],
             [
              0.5555555555555556,
              "#d8576b"
             ],
             [
              0.6666666666666666,
              "#ed7953"
             ],
             [
              0.7777777777777778,
              "#fb9f3a"
             ],
             [
              0.8888888888888888,
              "#fdca26"
             ],
             [
              1,
              "#f0f921"
             ]
            ],
            "type": "heatmap"
           }
          ],
          "heatmapgl": [
           {
            "colorbar": {
             "outlinewidth": 0,
             "ticks": ""
            },
            "colorscale": [
             [
              0,
              "#0d0887"
             ],
             [
              0.1111111111111111,
              "#46039f"
             ],
             [
              0.2222222222222222,
              "#7201a8"
             ],
             [
              0.3333333333333333,
              "#9c179e"
             ],
             [
              0.4444444444444444,
              "#bd3786"
             ],
             [
              0.5555555555555556,
              "#d8576b"
             ],
             [
              0.6666666666666666,
              "#ed7953"
             ],
             [
              0.7777777777777778,
              "#fb9f3a"
             ],
             [
              0.8888888888888888,
              "#fdca26"
             ],
             [
              1,
              "#f0f921"
             ]
            ],
            "type": "heatmapgl"
           }
          ],
          "histogram": [
           {
            "marker": {
             "colorbar": {
              "outlinewidth": 0,
              "ticks": ""
             }
            },
            "type": "histogram"
           }
          ],
          "histogram2d": [
           {
            "colorbar": {
             "outlinewidth": 0,
             "ticks": ""
            },
            "colorscale": [
             [
              0,
              "#0d0887"
             ],
             [
              0.1111111111111111,
              "#46039f"
             ],
             [
              0.2222222222222222,
              "#7201a8"
             ],
             [
              0.3333333333333333,
              "#9c179e"
             ],
             [
              0.4444444444444444,
              "#bd3786"
             ],
             [
              0.5555555555555556,
              "#d8576b"
             ],
             [
              0.6666666666666666,
              "#ed7953"
             ],
             [
              0.7777777777777778,
              "#fb9f3a"
             ],
             [
              0.8888888888888888,
              "#fdca26"
             ],
             [
              1,
              "#f0f921"
             ]
            ],
            "type": "histogram2d"
           }
          ],
          "histogram2dcontour": [
           {
            "colorbar": {
             "outlinewidth": 0,
             "ticks": ""
            },
            "colorscale": [
             [
              0,
              "#0d0887"
             ],
             [
              0.1111111111111111,
              "#46039f"
             ],
             [
              0.2222222222222222,
              "#7201a8"
             ],
             [
              0.3333333333333333,
              "#9c179e"
             ],
             [
              0.4444444444444444,
              "#bd3786"
             ],
             [
              0.5555555555555556,
              "#d8576b"
             ],
             [
              0.6666666666666666,
              "#ed7953"
             ],
             [
              0.7777777777777778,
              "#fb9f3a"
             ],
             [
              0.8888888888888888,
              "#fdca26"
             ],
             [
              1,
              "#f0f921"
             ]
            ],
            "type": "histogram2dcontour"
           }
          ],
          "mesh3d": [
           {
            "colorbar": {
             "outlinewidth": 0,
             "ticks": ""
            },
            "type": "mesh3d"
           }
          ],
          "parcoords": [
           {
            "line": {
             "colorbar": {
              "outlinewidth": 0,
              "ticks": ""
             }
            },
            "type": "parcoords"
           }
          ],
          "pie": [
           {
            "automargin": true,
            "type": "pie"
           }
          ],
          "scatter": [
           {
            "marker": {
             "colorbar": {
              "outlinewidth": 0,
              "ticks": ""
             }
            },
            "type": "scatter"
           }
          ],
          "scatter3d": [
           {
            "line": {
             "colorbar": {
              "outlinewidth": 0,
              "ticks": ""
             }
            },
            "marker": {
             "colorbar": {
              "outlinewidth": 0,
              "ticks": ""
             }
            },
            "type": "scatter3d"
           }
          ],
          "scattercarpet": [
           {
            "marker": {
             "colorbar": {
              "outlinewidth": 0,
              "ticks": ""
             }
            },
            "type": "scattercarpet"
           }
          ],
          "scattergeo": [
           {
            "marker": {
             "colorbar": {
              "outlinewidth": 0,
              "ticks": ""
             }
            },
            "type": "scattergeo"
           }
          ],
          "scattergl": [
           {
            "marker": {
             "colorbar": {
              "outlinewidth": 0,
              "ticks": ""
             }
            },
            "type": "scattergl"
           }
          ],
          "scattermapbox": [
           {
            "marker": {
             "colorbar": {
              "outlinewidth": 0,
              "ticks": ""
             }
            },
            "type": "scattermapbox"
           }
          ],
          "scatterpolar": [
           {
            "marker": {
             "colorbar": {
              "outlinewidth": 0,
              "ticks": ""
             }
            },
            "type": "scatterpolar"
           }
          ],
          "scatterpolargl": [
           {
            "marker": {
             "colorbar": {
              "outlinewidth": 0,
              "ticks": ""
             }
            },
            "type": "scatterpolargl"
           }
          ],
          "scatterternary": [
           {
            "marker": {
             "colorbar": {
              "outlinewidth": 0,
              "ticks": ""
             }
            },
            "type": "scatterternary"
           }
          ],
          "surface": [
           {
            "colorbar": {
             "outlinewidth": 0,
             "ticks": ""
            },
            "colorscale": [
             [
              0,
              "#0d0887"
             ],
             [
              0.1111111111111111,
              "#46039f"
             ],
             [
              0.2222222222222222,
              "#7201a8"
             ],
             [
              0.3333333333333333,
              "#9c179e"
             ],
             [
              0.4444444444444444,
              "#bd3786"
             ],
             [
              0.5555555555555556,
              "#d8576b"
             ],
             [
              0.6666666666666666,
              "#ed7953"
             ],
             [
              0.7777777777777778,
              "#fb9f3a"
             ],
             [
              0.8888888888888888,
              "#fdca26"
             ],
             [
              1,
              "#f0f921"
             ]
            ],
            "type": "surface"
           }
          ],
          "table": [
           {
            "cells": {
             "fill": {
              "color": "#EBF0F8"
             },
             "line": {
              "color": "white"
             }
            },
            "header": {
             "fill": {
              "color": "#C8D4E3"
             },
             "line": {
              "color": "white"
             }
            },
            "type": "table"
           }
          ]
         },
         "layout": {
          "annotationdefaults": {
           "arrowcolor": "#2a3f5f",
           "arrowhead": 0,
           "arrowwidth": 1
          },
          "coloraxis": {
           "colorbar": {
            "outlinewidth": 0,
            "ticks": ""
           }
          },
          "colorscale": {
           "diverging": [
            [
             0,
             "#8e0152"
            ],
            [
             0.1,
             "#c51b7d"
            ],
            [
             0.2,
             "#de77ae"
            ],
            [
             0.3,
             "#f1b6da"
            ],
            [
             0.4,
             "#fde0ef"
            ],
            [
             0.5,
             "#f7f7f7"
            ],
            [
             0.6,
             "#e6f5d0"
            ],
            [
             0.7,
             "#b8e186"
            ],
            [
             0.8,
             "#7fbc41"
            ],
            [
             0.9,
             "#4d9221"
            ],
            [
             1,
             "#276419"
            ]
           ],
           "sequential": [
            [
             0,
             "#0d0887"
            ],
            [
             0.1111111111111111,
             "#46039f"
            ],
            [
             0.2222222222222222,
             "#7201a8"
            ],
            [
             0.3333333333333333,
             "#9c179e"
            ],
            [
             0.4444444444444444,
             "#bd3786"
            ],
            [
             0.5555555555555556,
             "#d8576b"
            ],
            [
             0.6666666666666666,
             "#ed7953"
            ],
            [
             0.7777777777777778,
             "#fb9f3a"
            ],
            [
             0.8888888888888888,
             "#fdca26"
            ],
            [
             1,
             "#f0f921"
            ]
           ],
           "sequentialminus": [
            [
             0,
             "#0d0887"
            ],
            [
             0.1111111111111111,
             "#46039f"
            ],
            [
             0.2222222222222222,
             "#7201a8"
            ],
            [
             0.3333333333333333,
             "#9c179e"
            ],
            [
             0.4444444444444444,
             "#bd3786"
            ],
            [
             0.5555555555555556,
             "#d8576b"
            ],
            [
             0.6666666666666666,
             "#ed7953"
            ],
            [
             0.7777777777777778,
             "#fb9f3a"
            ],
            [
             0.8888888888888888,
             "#fdca26"
            ],
            [
             1,
             "#f0f921"
            ]
           ]
          },
          "colorway": [
           "#636efa",
           "#EF553B",
           "#00cc96",
           "#ab63fa",
           "#FFA15A",
           "#19d3f3",
           "#FF6692",
           "#B6E880",
           "#FF97FF",
           "#FECB52"
          ],
          "font": {
           "color": "#2a3f5f"
          },
          "geo": {
           "bgcolor": "white",
           "lakecolor": "white",
           "landcolor": "#E5ECF6",
           "showlakes": true,
           "showland": true,
           "subunitcolor": "white"
          },
          "hoverlabel": {
           "align": "left"
          },
          "hovermode": "closest",
          "mapbox": {
           "style": "light"
          },
          "paper_bgcolor": "white",
          "plot_bgcolor": "#E5ECF6",
          "polar": {
           "angularaxis": {
            "gridcolor": "white",
            "linecolor": "white",
            "ticks": ""
           },
           "bgcolor": "#E5ECF6",
           "radialaxis": {
            "gridcolor": "white",
            "linecolor": "white",
            "ticks": ""
           }
          },
          "scene": {
           "xaxis": {
            "backgroundcolor": "#E5ECF6",
            "gridcolor": "white",
            "gridwidth": 2,
            "linecolor": "white",
            "showbackground": true,
            "ticks": "",
            "zerolinecolor": "white"
           },
           "yaxis": {
            "backgroundcolor": "#E5ECF6",
            "gridcolor": "white",
            "gridwidth": 2,
            "linecolor": "white",
            "showbackground": true,
            "ticks": "",
            "zerolinecolor": "white"
           },
           "zaxis": {
            "backgroundcolor": "#E5ECF6",
            "gridcolor": "white",
            "gridwidth": 2,
            "linecolor": "white",
            "showbackground": true,
            "ticks": "",
            "zerolinecolor": "white"
           }
          },
          "shapedefaults": {
           "line": {
            "color": "#2a3f5f"
           }
          },
          "ternary": {
           "aaxis": {
            "gridcolor": "white",
            "linecolor": "white",
            "ticks": ""
           },
           "baxis": {
            "gridcolor": "white",
            "linecolor": "white",
            "ticks": ""
           },
           "bgcolor": "#E5ECF6",
           "caxis": {
            "gridcolor": "white",
            "linecolor": "white",
            "ticks": ""
           }
          },
          "title": {
           "x": 0.05
          },
          "xaxis": {
           "automargin": true,
           "gridcolor": "white",
           "linecolor": "white",
           "ticks": "",
           "title": {
            "standoff": 15
           },
           "zerolinecolor": "white",
           "zerolinewidth": 2
          },
          "yaxis": {
           "automargin": true,
           "gridcolor": "white",
           "linecolor": "white",
           "ticks": "",
           "title": {
            "standoff": 15
           },
           "zerolinecolor": "white",
           "zerolinewidth": 2
          }
         }
        },
        "title": {
         "text": "Visualizing Clusters in Three Dimensions Using PCA"
        },
        "xaxis": {
         "ticklen": 5,
         "title": {
          "text": "PC1"
         },
         "zeroline": false
        },
        "yaxis": {
         "ticklen": 5,
         "title": {
          "text": "PC2"
         },
         "zeroline": false
        }
       }
      },
      "text/html": [
       "<div>\n",
       "        \n",
       "        \n",
       "            <div id=\"9ad2e276-3d64-4e82-8e68-ea8949c80ef4\" class=\"plotly-graph-div\" style=\"height:525px; width:100%;\"></div>\n",
       "            <script type=\"text/javascript\">\n",
       "                require([\"plotly\"], function(Plotly) {\n",
       "                    window.PLOTLYENV=window.PLOTLYENV || {};\n",
       "                    \n",
       "                if (document.getElementById(\"9ad2e276-3d64-4e82-8e68-ea8949c80ef4\")) {\n",
       "                    Plotly.newPlot(\n",
       "                        '9ad2e276-3d64-4e82-8e68-ea8949c80ef4',\n",
       "                        [{\"marker\": {\"color\": \"rgba(170, 201, 103, 0.85)\"}, \"mode\": \"markers\", \"name\": \"Cluster 0\", \"type\": \"scatter3d\", \"x\": [-14.459969825948537, -20.17016746156355, -6.680020549353835, -38.768365183481045, 6.343906918551413, 22.702090571889975, -0.5647738753473449, -6.454763920698795, 3.796719625062331, -1.9311792843323483, 8.912650390569006, 0.9381062761154346, 18.188336474212264, -19.986769760879927, 1.779728981388013, 34.95905344471028, 11.032067207985351, 15.490680596334494, 12.515924563863909, 13.908937860041126, 11.508934171928846, 9.397027650800254, -12.634313849091363, 12.516585259426671, -1.149005044385776, 7.4835893046019235, 9.6006506872598, 28.8874978419133, 13.082481313257793, 6.9590282201538685, -10.318384542911295, 8.273820876807575, 7.574861227463439, 1.4824631557576493, -9.590338272720132, 2.192887521045035, -15.239727839322402, 8.594179317801714, 4.066025060592803, -5.747150732534774, 4.309177568805359, -6.996732258929274, 9.735941431929442, 6.975496849976988, 8.259122653443464, 3.0832323336698555, 9.139555785269557, -14.440234867577221, -12.434199295390787, -7.583658951515021, 11.385513722258281, 0.5655104045718286, 10.070442115884203, -9.650219407963972, 8.65434733384712, 31.898710274092227, -16.688942319837093, -27.998466939083276, -18.54175406110344, -13.553683232256635, -12.292435219487215, -6.0281046551498925, 7.033341106271704, 6.429591701334685, 9.819833175468089, 3.357670408997741, 8.449330714147447, 0.95785512059465, -8.585354708815599, 4.5395434779261175, 21.4411880133933, -28.23746274685035, 8.221872816799022, 1.715136006087372, 8.705400517040921, 12.464559515548219, 16.21837412837519, -1.0688203167988242, -17.61632530170571, 4.360815348688955, 4.665550849636389, 9.986738098629115, -6.704566964814335, -26.2043655952942, -3.752049918492181, 20.27342820584243, 5.443316437557404, 13.243783528883883, -15.564213692724046, -2.6611333635679677, 3.227169150369209, -31.40098890357917, 4.678139392154795, -0.33052668793035367, -14.270698462671428, -12.483045292523009, -26.62962540752684, 9.425474479881908, -9.192683014961064, -15.269801322317333, 2.4504297447687016, -21.968919710952342, -12.570239095489177, -16.08853579672637, 11.18038717868757, 14.06151020828786, -5.329594734830681, -15.783020230080114, -7.564279971398643, 7.556795163638827, 8.540917243468757, -0.5079809364532208, -16.26886591068841, -9.316046130981203, 14.298608138306912, 9.198742813020873, 8.14063626580799, 7.469407225171841, 12.61367215514276, 14.729003108773501, 2.546349716258867, -18.33725863403085, 15.733167054633578, -20.409889686982204, 12.67030984432866, 0.37307109284151907, -2.1228334089261733, 4.643002804436059, 7.613870138538077, -2.7630392886640487, -26.124768051346546, 1.663577795041585, -12.451981823267934, 6.755074059500154, -21.927908968864195, 3.7064619670751218, 4.509425867934576, -19.59701499920157, 15.574480405681573, 11.458684155028084, -24.285281709809315, 24.265749366279284, 1.7230433118172883, 2.877406955046971, 3.8107251082344855, -0.5857413276271478, 5.242832964632815, 19.89634359146757, -2.502758033724416, -33.06213017080781, 7.069536744932184, 8.446697894176332, 3.3398358205486987, 7.4065095115296735, 16.16805408146051, -27.624352191817287, 9.574574696910597, -4.287825122584517, 4.905374743107271, 5.837838419402466, 6.958601463406306, 14.437995225879435, -1.5809426098950876, 7.615287448889056, 13.542054604445637, 11.983790479859612, -2.056685952967055, 14.712160247783254, 12.570449710631193, 12.867670790467159, -2.557273198042151, -27.509384721542617, -4.180899679659223, -23.652279949581104, 14.582737481474986, 7.945596300973647, -13.630937444714931, 5.942193446643226, 12.704076292106002, 2.5557454245733258, 15.157971963992248, 7.326212497722997, 9.479906314280088, 4.514693867963442, 13.217191368679439, -0.21912680013190108, 17.11046935584993, -25.49440811520736, -28.29818707995739, 26.83206217315435, -0.05960618481870951, 13.448074175014533, -2.908830555318176, 11.9009918219137, -17.22773344162346, -1.5650164581677868, -26.178805688516892, 5.974440047949544], \"y\": [14.020554465810848, 5.669279474910066, 0.39950685682094833, 9.182435511202145, -7.119916669838362, 31.247465917109672, -6.0659989538334855, 0.1549272617782068, -0.3151365328104923, -4.605039628615568, -11.721634365681442, -5.727699979295816, 19.743514483522667, 5.532632000955392, -4.246189230720351, 46.95322017203174, -12.9373876558918, 3.1615650157830673, -4.347381742302486, -6.770315385640808, -9.79272178814022, -2.8819285644892796, -0.27861341156067, -7.454721666716206, -0.20393361417334624, -5.5427962909822694, -12.514454926147193, 41.54854018011399, 26.668690738908907, -5.644904761961591, 0.6460114354951306, -11.597784831840034, -6.145053512889547, -3.9924186252043627, 18.89186926435578, 1.3261360309591665, -1.8833475219683757, -1.2331768105638738, -9.143703445607072, -2.052708382126831, -3.094029609212161, -1.0752177937528824, -6.074439869599039, -7.052660227087352, -8.872041539752853, -8.248155779913667, -1.9195187633833468, -3.428269000850868, 0.45832463560078934, -1.0904415265821163, -4.540948111899533, -0.7556700051145722, 38.76503027051359, 4.60559414564518, -10.514397074295651, 39.71922909932264, 4.711186859568288, 9.186845535035571, 11.791337806228068, 10.016063013726063, 1.3910794591065037, 0.0284626991325941, -9.24774704364464, -10.937321594558869, -4.53677782266484, -5.912881457502482, -3.096190689362507, 13.515503626791519, 1.4617855234239394, -6.478252830891595, 27.91674899569063, 6.4821554996349064, -8.460709994926344, 1.1389763202760856, -9.274221988081996, -9.200008077640978, -4.484409936021208, -5.625492901147915, 0.3439309506103125, -8.33658703925226, -9.236682106274497, -7.451662245039814, -4.618860165400466, 7.8853197264855055, -6.431176490360348, 19.07253767320784, -8.59913214185473, 12.664915329802177, -1.9983422116421337, -1.8412429344011543, -6.160018890004211, 8.316448880461246, -2.391822361892563, -7.453336224378582, 2.4040922834328984, 6.801702750638937, 11.911457546312803, -4.226344858353758, -3.2863038578520998, 7.94528696091636, -5.928968978505047, 4.583407276071379, 1.6279079444382167, 4.120570989816062, -6.7622395104955295, -8.853726981834352, -1.4055244909971605, 6.383375269488025, 2.673736294598966, -7.922370460214828, -2.8499308598125124, -7.8948082042827865, 5.748377275211684, -1.5773060943578212, -2.7683195699336323, -10.963015782146332, -9.20455841938086, -6.351964134756047, -5.09356096684248, 24.29607037461665, -1.9198964807235448, 4.77961762814483, 9.705397011269556, 5.7696358078472585, -6.13971702524562, -3.141470680491821, -3.027610759058343, -3.274221686917295, -8.408824451985728, 5.880486782487102, 4.071902984163503, -5.237665240708326, -3.683528729721954, 0.9931387461678063, 4.813223828540264, -4.8728319476125455, -7.434532264178231, 6.304829185600448, -4.958392850650263, -8.642362624439333, 3.0538935240098724, 16.457662192120793, -2.7962713651403126, -0.39602075231166456, 1.8246019388090755, 4.908604194263844, 32.218428779802196, 18.403212958864767, -7.013120505670791, 12.926898266548054, -5.121062533509285, -9.478862964929242, -5.13848254052775, -5.679302424316947, 10.187077494266424, 8.975184233285212, -3.2593352778550333, -6.40102204319079, 0.6329292679193453, -4.319424220304095, -7.06089141260118, -8.183481217916052, -1.6677819478204163, -6.105743611883783, 0.026080904208755765, -12.786707978475706, 0.4962888505422726, 10.050512572395453, 0.5954659016687834, 25.046867809452536, -1.380064795850847, 4.0920664347269105, -5.259742093684759, 10.214546957756479, 2.837015239663389, 1.0834200439378932, -0.45239920216623053, -10.568490878605443, 0.4408352850505829, -5.185088458477281, -6.181100676410461, -6.900268112424314, -7.317749359531565, 0.9113480886044732, -6.472132772306974, -3.482995913509205, -7.769907320386184, 8.850458918458733, 5.336713553090842, 32.76816716821815, -5.75975202442616, -9.591953121935012, -7.435822543937646, 9.323050734402647, 1.6962078818996615, 0.17956939107571523, 4.124704411368623, -7.2223782878009954], \"z\": [0.5752231290335408, 9.839733681864805, -0.1535147986080426, 3.6593896232938508, -0.8399350395330532, 0.2555352991857161, 4.236352198656161, 5.251954786619904, -2.7893868992422517, 3.533191796605552, 4.491739762512833, 6.016251715172215, -2.0354730517149124, 13.075738621872746, 4.45405402583047, 2.4337968290652854, 4.957802064715114, 9.208242096191015, 6.284642026604263, 3.4440231974815045, 7.466304671857326, 5.995340036571214, 1.73419920432246, 5.282735274294932, 5.210194651382063, -11.176843776829566, 1.5026317973488068, 3.0249301306743583, -2.17334870180153, -2.6967338200717927, -5.005404423599864, 4.455796324048997, 0.6148420345149912, 4.4905552717806625, 4.841959327095613, 3.2072066004895117, 5.394178330865283, 2.787731703250838, 7.327070370848662, 0.4744411826604254, -0.03212655555042037, 3.3345390819017675, 6.549412210029431, -7.167810321398827, 1.1293173681479158, -7.864777539218442, -0.17444307835057798, -1.353555188347387, -4.136835835397851, -1.6487768455505052, 2.3613461238467637, -4.68527567425917, 3.6582171533599963, -6.907900374095156, -7.256929345651151, 2.066772747440251, 3.8808573060394296, -0.9063566957685855, 3.807124867963901, 5.807096911436899, -6.581272294612994, -3.2631599100704736, -7.010864503962694, 5.0738666204553, 0.5386354711417725, 6.345135264812534, 1.825218769727741, 2.2416977901004507, -2.631454752217994, 1.4621310149529625, 1.9498498517278244, -0.5488179058876478, -0.9397167656909973, 0.5786477316609793, -1.860104249491861, 2.7571662413462326, 5.845391200377295, 5.180637514861569, 1.0415300184393648, 5.015818133907261, 4.516027679710478, -9.738330396908564, -1.0050544622380944, 5.140754717148483, 4.857287199505559, -2.5061530950558755, -3.501663337511582, 2.0516942327249352, -0.6660635013707711, 9.16764302684237, -5.873749427208567, 3.936928812387174, -0.4232064367560887, -0.502704718015547, -6.620763998296596, 10.411545248971095, 2.035997337423547, 4.444238964734149, 4.585432835661873, 1.8702843634355044, -2.035857975953453, -6.18027369874899, 3.7299127652256874, -0.3683080025304127, -12.771527830910609, 5.213484531655896, 1.1596397022703646, 0.6151084411486296, 3.624754535644092, -1.5698510427512025, -0.9102328236466024, 1.9354747576208302, -0.1755617754829059, -5.207376506479255, 1.8792955485756373, -0.49013617191322045, 3.109090597888916, -5.499620223741817, -5.348116059661963, 2.257408641538163, -9.51712800643324, 3.9718856932831477, 0.9633070506425467, 2.6980109807379207, 3.3592929842219865, -0.14288143771938755, -7.4376728850535585, -6.730086548852709, 7.466985596237043, -0.6701407224240358, 2.278858891016244, 9.385902937934022, -4.844980569856578, 7.442281999016021, 0.5340373627858034, 2.5258074918868934, -7.339592940408508, 13.65946376174262, 4.787211511910162, 2.1578036222652885, 1.9688181958800808, -1.0588106779651991, -2.606664839364975, 9.524655564809713, -7.672744748250626, 2.665299351157691, -0.6672948334170776, 0.9827502181213275, 0.4890240318368891, -1.8776418847451595, 9.183799291646487, -2.9594057502823055, 2.5119923801413027, -11.9135343565985, 1.5784761284061428, -6.82807840743624, -0.28558444805416766, -1.4138918742152249, -0.03860422538704604, 13.552423988012325, 3.144415599611463, 1.1187157301918194, 5.7423611084687645, -5.706094495757749, 0.10240551025304458, 3.3298357856703253, -0.17733215009547676, -1.3986350979400692, -0.32217012531655115, 2.865362924270826, 6.416607771481371, -2.3085719239396894, -3.6870445490156922, 6.203690392447247, 0.5967421652236233, 2.7931487636402363, 1.1239166746325917, -2.1465115413363387, -9.694332326437662, -5.254328867472981, 2.6047786509471047, -5.886422855094279, -3.089561040308041, -4.496789975164342, 6.527729146997583, -8.519471103378816, -4.833893041049198, 1.1604689736118456, 6.126146867341265, 1.1113453953338157, 8.567898667053477, 3.3478025914885348, 11.880964308724614, 4.007077072368021, -0.9146663009781937, -7.53415142971391, 0.2983310387873724, 5.848833891024806]}, {\"marker\": {\"color\": \"rgba(103, 146, 201, 0.85)\"}, \"mode\": \"markers\", \"name\": \"Cluster 1\", \"type\": \"scatter3d\", \"x\": [-10.578568965933577, -12.429358411394972, 11.329246297627106, -6.912349091701183, -6.2153120709776255, -0.23614111130970863, -22.970064210093806, 7.951274865811367, 12.068077059263233, -2.3043630939246453, 4.271700076009864, -22.402816640486957, -6.885061378892623, -16.231657156823157, -3.237105072621218, -9.388448717418283, 3.080662820271858, -11.539634512831773, -5.247037189072265, 0.020177969394970175, 3.5555994858419058, -13.47924846417939, 21.831268987063, 12.521206480923423, 4.399026055992726, -1.1824266100070389, 0.46184613473869374, 9.638483150183815, 9.86382528173829, 1.1536304334008223, -3.426207597552038, 12.850175471159186, -2.826303582979043, -12.28331420451038, -0.03563083897532978, 5.294318159350571, -8.392154043966526, 8.96574371423179, 30.448960479138684, 5.724087795590749, -14.163137571158453, 7.86003030210862, -2.4933173894753273, -0.6150069268877358, -1.1518615433528467, 9.73380044871082, 11.481015258002989, -0.006063274377126708, 3.4257311682505325, 1.292479390995183, 15.499198233337369, 14.25622469886967, -14.376728617530151, 13.285340109930642, -1.1709700144845767, -6.027432272972622, -3.6600190334013547, 10.368526240253503, -1.8813097048688474, -1.1843012102514032, 11.300244504980238, 7.33261878310699, 5.023588200363792, -6.615805745245507, -12.557754564931711, 2.277712037383224, 7.172080954601297, 4.828921233389316, -11.061700059342161, 2.0468659865079823, 1.139315172758085, -9.03263205563791, -1.9334505944478402, -10.25940124726771, 8.52112422309972, -26.39741976936723, -3.5983933542415247, 14.912837774070411, 5.822134738547046, -0.36922479152303495, -20.321041828418284, -22.668232279027734, -14.155903541159594, -0.43290791154347563, 3.747498220957955, -3.359803296632708, 8.521271319005727, 9.682243541137892, -2.3517399584742282, 4.547607274873315, -6.2980275851416065, 5.506307737887366, 6.076137864123667, 5.396003652065533, -9.639291612667334, -18.517657020965718, -9.514746268940371, -16.17724840446383, -2.1201171169877027, 7.5459640373296155, 23.21898709137535, 12.589957226873917, -3.2894364280765527, -0.2275253970996343, -1.3597474081559902, -0.06027965071383541, -5.761565876873726, -17.287670101598277, -10.342594563173165, 11.909009293918151, 11.937095643137386, 6.634501611075586, 34.17240720217748, 17.682870964817585, -6.025892959153591, -7.702529697434515, -11.181172699148295, -26.641864948659055, -12.902800143933714, -9.58894048319843, 18.84254120210447, -6.672840718172333, 0.3025081483536445, 9.968023901277824, -1.7861670529597347, 3.957933335699258, -11.987285948635982, 10.732015656192718, -28.896077455773455, -9.306703785068473, -2.154114139827255, -3.8345199714319227, -19.039129411796836, 3.5018816517053057, -4.423015355667964, -5.5706548094117405, 12.861355264479153, 10.454538195501241, 16.247997368825093, -1.7557522860959698, -6.775450382765086, -1.6670298291461751, 14.35233842150495, -2.135448988800265, -0.2114388455814162, 7.640400577382951, 16.461193257051498, 3.3489323547583623, 3.9069885006402347, 6.735646886478055, -0.38393628698043336, 15.934352309016516], \"y\": [-1.7419715845658301, -1.072693372900567, -5.1611914151985365, -1.6929201188748815, -1.3748200593054811, -1.826398090933745, 1.5067322849965707, -7.08246899375855, -7.9810712254943, -3.045691099295641, -7.484498780465159, 3.78395602552192, -1.4661578712463659, 0.8119966700067647, -2.356591827487316, 1.7261862576245712, -7.739377226143756, 1.35841914297485, -0.6635221397339018, -5.68074520647281, -4.43754082710235, 3.5126556697912745, 22.085121743932014, 0.1023004748629681, -6.832693091454468, 3.1771328149804634, 1.7661604630083392, -8.678054305088825, -6.3605002160309745, -9.125803424322878, -2.5635358276969726, -1.4569734255901448, -2.8403212852962065, -8.795519128621377, -5.657371654024262, 0.8616832694344183, 3.597874442904866, -11.6622163024747, 40.85497146585247, -7.902011113666587, -1.328922662182191, -7.767661190690582, -6.8783275151766645, -4.501977485139226, -3.776530832576953, 1.9758137310684583, -4.389762130394564, -4.0985998059542466, -5.037692371153849, -7.465822346778441, -8.897257510777278, -0.7647588983348869, 31.4497727773151, -9.763722172653507, -8.692770187642115, 0.50439310603947, -1.7062650358596858, -1.9120059478550078, -6.450736544443851, -3.746490545511594, 3.4089055056074287, -10.322805638588726, -7.107153386436458, -0.00657814264628301, 1.6114622882653011, -4.585853088555099, 4.907020768680705, -7.984966618205458, 1.9148878435339345, -8.440111477714918, -4.842693037537139, -1.0134184980080383, -0.4411754916412253, -3.3080446808154518, -7.1131655418392805, 7.889008467309685, -0.3941697571999017, -3.9145232474302962, -9.197131458146588, -1.877396845216893, 7.9203723887493185, 3.316334327829986, 6.77680406739006, -2.7817638250134027, 13.472641600557951, -3.19974491412802, -6.693730859385123, 3.360248742145111, 27.199620593027106, -5.586811718813391, -6.79589041533399, -2.620087127889732, 7.222614599310587, -4.672468579164195, 0.04779711438726443, 4.380836274226114, 0.4343371375109595, 4.014207652265115, -3.8354034349052357, -5.487185680573515, 32.140278783521424, -7.163813502322521, -1.9454989296061962, 10.115609387926158, -7.58578743665036, -0.7756917490896124, -6.361477232795705, 5.503438626598816, 5.903893055069461, -3.8944302685644807, -5.510453763660976, -10.627867402308569, 45.638218961745416, -1.1430537712599524, -1.2434369376878975, -3.593636077453307, 1.0894514626292493, 4.206146481063414, 6.947217315663007, 3.018520910290024, 18.280776808066435, 0.4192467868732956, -0.131156844055895, -6.649680477813499, -3.3500900895179595, -4.355222844607047, 5.1433706012276925, 0.1722700078351152, 8.564414213662259, -0.811780287162575, -1.6486295913474776, -2.0924078160631936, 6.029422507941918, -2.5366091451410626, -6.321936260122169, -1.2025820538210423, -10.446668137599458, -13.977515582040859, 8.897231485611995, -6.487208133374009, -3.3126175283367822, -6.331993803923931, -4.752467113708771, -1.1893540570470784, -0.2559655319128908, -8.318936951517033, -6.645626876608109, -9.301991162614144, -7.90522095296213, -6.938899545903237, -5.64436615701998, -7.826850144252197], \"z\": [7.379914616102802, 10.235127812786704, -9.139236864693835, 5.923854706662923, -0.11744021663232482, -3.185223810365834, 12.309328751032664, 5.525406667391003, 5.725935883221417, 2.1284304832469294, 2.1545957758632532, 6.862705269053264, 6.502254552361388, 4.04792461025223, 3.75276871301752, 11.111585037720799, 2.121410373234908, -0.8067170613633189, 9.428753353194791, 5.9162317636765165, 1.1407801925341214, -5.068446238235823, 3.653541869292451, 7.947725495047288, 1.4993357500517044, 9.466214635860922, 10.201977148039408, 7.814596794071603, 9.395193553696885, 0.3822866336407726, 2.4856191935108067, 2.6918954450208266, -2.56777716125428, -2.448434249126261, 3.711668663491866, 4.091906802270961, 0.9857916109196563, 3.5535524574500053, -1.2921491041636681, -2.0141430063445758, 0.6788931538478009, 5.002578889804251, 0.4583658880394307, -6.212843896499221, -0.11374018601421634, 0.9982722626575438, 0.8657535194749914, 10.644033290708588, -8.270160765862848, 9.14110483647645, -1.0483359085402892, 2.343343984288722, -5.955445741336338, 2.357136568419065, 1.3724848124876368, 7.982550803883353, 5.392537560981349, -9.640090576532803, 5.0545025606539475, 8.027292867322084, -2.3291927613195074, -9.61230095911699, -3.063124793790084, -9.134034997683928, 4.407474477481452, 5.5106817833071595, 4.41377573100737, 9.261028496676499, 3.2336877372005475, 7.43073584652392, 3.9752345256060204, 7.302799402957678, -4.623446186835501, 5.519253232529802, -0.07057189908118328, 0.6310660629322088, 1.145982970019135, -1.1239136915347885, 4.112952046657858, 4.200163710457029, 7.118613654894002, 5.991335645610759, 9.28430973991724, -1.0743631205743351, 10.10931838360546, -4.435372445334839, 6.955892837133527, 2.282592060530356, 8.38306341324092, 4.480366961803071, 3.1909325778665485, 1.1860927220849842, -5.691203149696322, 1.4350295824988621, 3.0414245863381257, 6.497850543395269, -7.56208653638147, -11.404084844526471, 10.404177383726164, 11.797441428045147, 0.797775262380992, 6.337584346944119, 3.580840851656303, -2.178783924827571, 1.1518494963565655, 2.248317662740775, 6.09838861964978, -7.239262228277208, -6.781956836788477, 5.046016734844562, -9.214890074074644, -7.376078270990407, -1.229316778646072, 7.702306319838126, 5.7317158722777215, 11.924379447126844, -5.287419335148616, 5.447443894028241, -1.5292039008141127, 6.092941787568432, 1.604573072428025, 11.247608936411124, -6.913829691909469, -2.4277976082528383, -1.3271895241949956, -8.009794763064445, -10.307022680586176, -3.845258166457671, -4.61836019952406, -9.339879383716296, 6.5411688130563155, 5.160537625469551, 4.019512341920514, 3.9671684075326477, 12.51979321249057, 6.060323582508707, 2.869993325463884, 4.9498588999524875, -0.9378895603047779, 4.330318291576851, -7.012035914118899, 6.577379663878504, -1.5188768821643597, 6.882839424811312, -1.2472360738261512, 8.501596009726462, 9.111115528409897, 4.144779152428696, 0.7861027004506188, -10.840565436754455, 2.4912450278347937, 5.961155245463225]}, {\"marker\": {\"color\": \"rgba(201, 103, 110, 0.85)\"}, \"mode\": \"markers\", \"name\": \"Cluster 2\", \"type\": \"scatter3d\", \"x\": [10.413079355616452, 7.609347986149971, -18.649736281294363, -11.34399768215523, 0.43128383197413256, -10.122946452865193, 6.28821982852883, 22.627292791527505, 2.476176399445722, -7.695615887905084, -26.19551105123058, 12.478583708577018, -26.55892766381339, 6.969955373532572, -24.449819032624323, 7.880811289762686, 14.349521565693724, -7.938497195290354, 11.87196799158885, 0.6605592385603313, 8.216276139251722, 7.076625959640326, -4.360626174791569, -27.934692022870045, 9.7823731380655, 7.799443835123497, -19.396869925231766, -4.918559480081096, -8.665700753167481, 23.827316555469004, 0.9648341726522539, 5.818114890666352, 2.496290071188334, -10.625242110257686, -4.33456175469739, -2.988562694245264, -6.51791547337971, -10.895779228973938, -11.805579358608098, 9.242030360884247, 2.741600744725116, -25.240302881698657, -8.222451723077928, 11.902260594685474, -17.849413231822734, -17.071932886598436, 0.7029347256493067, -0.5045870163941628, 15.610431233673543, 5.066856260181145, 0.10199359272912596, -10.192596787595772, 5.47556942749476, -4.828293577575555, 4.444087272933871, -8.040629062495725, 8.89053227669153, 4.814154869164578, 39.71009373278253, 5.790462391026527, 15.051451759716286, 13.104301478544707, 14.110446200409287, -0.7887758396342455, 7.1951552882783645, -0.8167308949800173, 12.385341910228924, -3.7122678091084382, -9.490103467826234, -20.274412596987926, -5.772869733415279, -4.327726251558389, 11.371227632799902, 11.162321587362193, 7.749887726571753, 2.6897172026327496, 0.2502305348809197, -6.552451233578193, -2.8673577148322646, 12.568429488701497, -8.508184876066302, 2.3083666387552584, 3.9703709633171096, -6.699475946031376, -18.926684670436735, -0.3406580059050967, -15.108644152357002, -23.788304286523818, -27.903950578039737, -30.19178427791597, 13.644705173422594, 18.743295314124985, 14.124230678347198, -5.4821236069667085, -17.807980312963135, -10.54498014386116, -15.833077580251377, -23.650155064529105, 15.738096922034286, 11.137902484154369, -2.0653914244300307, 9.647137802481897, -22.95124493193486, 6.910413321224187, -19.647819966647475, 11.176522421996452, -11.112415854086002, 1.5022085052645455, 12.325998928913988, 12.85566870365997, 7.703913992609964, 0.7066965578768267, -22.421451861814973, -21.052998579767035, 13.989724548531827, 20.06575545339971, 7.2525399872831775, -10.99806029206152, 3.1173181938526016, -27.538739161973233, 5.392307086897058, 6.0072593175691935, 18.8885060979695, -13.058198076002958, 0.11342412719351369, 3.5037800281207288, 10.068923415332728, -8.723507546024077, -3.2177157164579326, -3.3349234675919406, 12.280981033166256, 7.419910961374673, 10.727012164611565, -4.6013872814142305, -14.22918918229151, 2.4836591976200078, -3.1702588536504037, 19.407868632909015, 7.05846911184173, -27.590544832461042, 11.512362572327515, 10.82514273811868, -29.154046237921285, -0.2998432926164006, 15.394535855656125, 14.044407012833007, -12.331870279101885], \"y\": [-12.79303781844261, -12.541917460221098, 3.4179021059138184, -1.0767914891074997, -5.076347633261261, -2.6629848607330002, -4.862257288418616, 38.689439495136796, -6.376525729251973, 6.330845308079901, 12.18792004822142, -3.8363233460970303, 4.647913852920629, -0.2323187521425959, 5.095993280895663, -8.881708898895312, -8.124870444035656, 1.6668786098587038, 13.203645355282093, -6.317762423051269, -0.16265905094889008, -6.467915691887171, -4.209887260592233, 13.547706185302621, -10.137661415462759, -5.595812512596266, 6.327484521152879, -4.359667407856447, 2.926391889892764, 28.700510200820876, -6.199886471641825, -6.438914198887952, -6.375627527857157, 0.22722156694679743, -4.5268630515076795, -5.906922471132523, 0.056943838309411535, 0.5578371019338797, 23.516493097336117, -4.9150983137697795, -3.236171293503163, 0.4856500037154484, 5.93483303382738, -11.969436826958207, 8.973930188910252, 1.7999223117034073, -1.6974981549813857, -4.392732353493277, 8.607324815958611, -1.9325608843651416, -3.7486087729101563, -2.4703723819249777, -7.133803018837914, -0.8424156814567539, -6.24013560134529, -2.1346133624497927, 3.761757280943382, -4.615249099254167, 71.9046342345363, -2.6737199566891294, -4.17212652502235, 1.4633786503703297, -7.786429636763619, -5.634322041892501, -9.266974982037201, -4.910385360619519, -8.091280992626539, 1.7002429167391238, -2.646519746337391, 3.07226451709177, -4.859072904947493, -0.360256065182993, -6.380128251518883, -4.242114963511398, -4.158210395703573, -2.695105595186882, -0.28810689920514, 0.8863414420877216, -6.239050042484419, -12.72917637993356, -0.8924190321741208, -9.221761339304983, -8.38674006996753, -2.4788118233524647, 1.3203430117937602, -11.515093370436194, -0.33463471365543374, 5.916174724452243, 9.020807260262174, 10.714668960946408, 2.714994571069568, 18.65980469219438, -9.98455143018042, 11.580791449192606, 8.62023681389501, -3.5153749969391166, 3.4172648277708575, 6.512408098401929, 24.52814320833709, -3.539733521511361, -0.5765723672680005, -7.4059269261896254, 5.755445121514088, 3.6863268210948243, 7.651627073303474, -11.304029705886254, -0.25070266631101146, -1.8905448872138546, -6.876158966678454, -7.804241755576648, 15.32373740850505, -6.739764494195219, 2.748253834700304, 3.837288973288447, -7.9163119947385905, 33.72496157461379, -6.0771101643059575, -0.06728961479920169, -6.370398158233061, 7.0805150132108965, -8.434634579792972, -5.757569790051973, -3.2960510042258884, 5.669095982762752, -9.351576938339372, -0.6199441592106488, -10.50521553687267, 0.11788653574852767, -2.4443775630306375, -6.6159278599585285, -8.240835445363047, -1.3710824641834463, -3.1939645773761045, -1.3025043516988084, 3.6892479256800446, -10.08067739675685, 2.1324441378915613, -4.89790975673357, -9.181874862511854, 15.923509477931148, 15.455465636199513, -10.666617212256263, 7.307353528478953, -8.748733544104747, 4.348644974067731, -9.958783684823594, -0.5815375408516353], \"z\": [-13.24383748549003, -9.41685716130508, -2.0056979318715453, -4.873018750095002, -4.975002571609515, 3.453704676036702, -3.227018822944281, -2.940617834597604, -11.545739837974905, -7.153363951215247, -10.268389178957525, 1.7478642320075406, 6.513971296434804, -9.447658071304101, -2.006659432163039, -1.3305885930466557, 6.792980198100433, -8.2236781815199, -0.34634358378520846, -6.650407191365823, -5.3869777634364295, 2.25982790324549, 0.8605902873437237, -10.327671234810554, 1.6154600436362059, -5.812453506481319, 1.1975193286902706, -5.43610822651164, -3.3139931844164177, 0.11761453932518903, -6.739820258484857, 2.361921955952008, -8.433614800178232, 6.270536589265176, 12.681249275065227, 1.0900460089764363, -10.065362414969798, -10.034581600937392, -7.7897938001691225, -8.877461577463103, -4.196696044982201, 5.4266689146479825, 2.3425939621361542, -1.062937883757472, -9.382154633459026, -9.377919535627246, -8.552848317175652, -5.8109214971337675, 2.5055457854335725, -6.368241651112605, -1.489211154224471, 2.674904798424763, -11.643786022430124, -10.811802745048462, -7.0636565434435505, -11.707881698454557, 9.194704947353161, 8.016378578091816, -0.0037225561994123258, -7.775780599045474, -8.857466451103262, 1.2150909673935621, -11.097323873929827, -1.3206461208909264, -7.677408413512197, -8.85473884638611, -2.8151720384428556, -11.715971177671864, -1.9558673540623834, -5.636031290061738, -1.9484713181795545, -7.995299154400634, -8.401254328571907, -3.8564142310334435, -0.5108976292632091, -2.8674403219108546, 5.737669729318349, -0.2377328114768278, 4.624111012595433, -0.7476255816180628, 10.584122069927425, 4.186875712563382, -10.474802344060025, -10.91518232134684, 7.7303660513758246, -0.74322321831882, -2.0466058876181865, 1.954740725717824, -9.632615143257075, -8.68363352286195, -10.896733943380205, -1.574027499110538, 3.1125908126993362, 4.925161025802897, -5.803032148056397, -9.113619370073138, -7.954902955280778, -9.30982259510602, -0.649778570912453, -4.053993957389895, -11.187012610293056, -12.98468231571817, -10.987886864905082, 6.159881078381345, -10.58423141203615, 0.11460085981365525, -8.573858048355284, 6.88885056037655, -12.378226547244303, -13.51071279935996, 3.761190424390866, -7.561082414374587, -3.107789644584849, 9.152876684685161, 0.5143536837766777, -3.588267241806003, -11.396982403213622, -7.970374970663098, -5.527873033590636, -9.083535140494613, -3.2525070619101517, 7.04711773298455, -9.859215116818964, 1.0778331876072704, 1.5053159920496264, -6.820240953303011, 4.744341858225001, 4.076447125016416, -9.292219233062632, -0.7418611365244328, -8.549413715356751, -9.374150865059205, -12.129725574670287, -4.527876515341715, -1.0199887574812367, 10.313237715489972, -11.474154714288414, -5.079095361063125, 4.059143855970093, -5.92424500881802, -2.8906658081123178, -8.140011145068442, -2.073709905872389, 5.520214031142696, 0.9173301616121678, -1.0191216652423103, -9.356144804912184]}],\n",
       "                        {\"template\": {\"data\": {\"bar\": [{\"error_x\": {\"color\": \"#2a3f5f\"}, \"error_y\": {\"color\": \"#2a3f5f\"}, \"marker\": {\"line\": {\"color\": \"#E5ECF6\", \"width\": 0.5}}, \"type\": \"bar\"}], \"barpolar\": [{\"marker\": {\"line\": {\"color\": \"#E5ECF6\", \"width\": 0.5}}, \"type\": \"barpolar\"}], \"carpet\": [{\"aaxis\": {\"endlinecolor\": \"#2a3f5f\", \"gridcolor\": \"white\", \"linecolor\": \"white\", \"minorgridcolor\": \"white\", \"startlinecolor\": \"#2a3f5f\"}, \"baxis\": {\"endlinecolor\": \"#2a3f5f\", \"gridcolor\": \"white\", \"linecolor\": \"white\", \"minorgridcolor\": \"white\", \"startlinecolor\": \"#2a3f5f\"}, \"type\": \"carpet\"}], \"choropleth\": [{\"colorbar\": {\"outlinewidth\": 0, \"ticks\": \"\"}, \"type\": \"choropleth\"}], \"contour\": [{\"colorbar\": {\"outlinewidth\": 0, \"ticks\": \"\"}, \"colorscale\": [[0.0, \"#0d0887\"], [0.1111111111111111, \"#46039f\"], [0.2222222222222222, \"#7201a8\"], [0.3333333333333333, \"#9c179e\"], [0.4444444444444444, \"#bd3786\"], [0.5555555555555556, \"#d8576b\"], [0.6666666666666666, \"#ed7953\"], [0.7777777777777778, \"#fb9f3a\"], [0.8888888888888888, \"#fdca26\"], [1.0, \"#f0f921\"]], \"type\": \"contour\"}], \"contourcarpet\": [{\"colorbar\": {\"outlinewidth\": 0, \"ticks\": \"\"}, \"type\": \"contourcarpet\"}], \"heatmap\": [{\"colorbar\": {\"outlinewidth\": 0, \"ticks\": \"\"}, \"colorscale\": [[0.0, \"#0d0887\"], [0.1111111111111111, \"#46039f\"], [0.2222222222222222, \"#7201a8\"], [0.3333333333333333, \"#9c179e\"], [0.4444444444444444, \"#bd3786\"], [0.5555555555555556, \"#d8576b\"], [0.6666666666666666, \"#ed7953\"], [0.7777777777777778, \"#fb9f3a\"], [0.8888888888888888, \"#fdca26\"], [1.0, \"#f0f921\"]], \"type\": \"heatmap\"}], \"heatmapgl\": [{\"colorbar\": {\"outlinewidth\": 0, \"ticks\": \"\"}, \"colorscale\": [[0.0, \"#0d0887\"], [0.1111111111111111, \"#46039f\"], [0.2222222222222222, \"#7201a8\"], [0.3333333333333333, \"#9c179e\"], [0.4444444444444444, \"#bd3786\"], [0.5555555555555556, \"#d8576b\"], [0.6666666666666666, \"#ed7953\"], [0.7777777777777778, \"#fb9f3a\"], [0.8888888888888888, \"#fdca26\"], [1.0, \"#f0f921\"]], \"type\": \"heatmapgl\"}], \"histogram\": [{\"marker\": {\"colorbar\": {\"outlinewidth\": 0, \"ticks\": \"\"}}, \"type\": \"histogram\"}], \"histogram2d\": [{\"colorbar\": {\"outlinewidth\": 0, \"ticks\": \"\"}, \"colorscale\": [[0.0, \"#0d0887\"], [0.1111111111111111, \"#46039f\"], [0.2222222222222222, \"#7201a8\"], [0.3333333333333333, \"#9c179e\"], [0.4444444444444444, \"#bd3786\"], [0.5555555555555556, \"#d8576b\"], [0.6666666666666666, \"#ed7953\"], [0.7777777777777778, \"#fb9f3a\"], [0.8888888888888888, \"#fdca26\"], [1.0, \"#f0f921\"]], \"type\": \"histogram2d\"}], \"histogram2dcontour\": [{\"colorbar\": {\"outlinewidth\": 0, \"ticks\": \"\"}, \"colorscale\": [[0.0, \"#0d0887\"], [0.1111111111111111, \"#46039f\"], [0.2222222222222222, \"#7201a8\"], [0.3333333333333333, \"#9c179e\"], [0.4444444444444444, \"#bd3786\"], [0.5555555555555556, \"#d8576b\"], [0.6666666666666666, \"#ed7953\"], [0.7777777777777778, \"#fb9f3a\"], [0.8888888888888888, \"#fdca26\"], [1.0, \"#f0f921\"]], \"type\": \"histogram2dcontour\"}], \"mesh3d\": [{\"colorbar\": {\"outlinewidth\": 0, \"ticks\": \"\"}, \"type\": \"mesh3d\"}], \"parcoords\": [{\"line\": {\"colorbar\": {\"outlinewidth\": 0, \"ticks\": \"\"}}, \"type\": \"parcoords\"}], \"pie\": [{\"automargin\": true, \"type\": \"pie\"}], \"scatter\": [{\"marker\": {\"colorbar\": {\"outlinewidth\": 0, \"ticks\": \"\"}}, \"type\": \"scatter\"}], \"scatter3d\": [{\"line\": {\"colorbar\": {\"outlinewidth\": 0, \"ticks\": \"\"}}, \"marker\": {\"colorbar\": {\"outlinewidth\": 0, \"ticks\": \"\"}}, \"type\": \"scatter3d\"}], \"scattercarpet\": [{\"marker\": {\"colorbar\": {\"outlinewidth\": 0, \"ticks\": \"\"}}, \"type\": \"scattercarpet\"}], \"scattergeo\": [{\"marker\": {\"colorbar\": {\"outlinewidth\": 0, \"ticks\": \"\"}}, \"type\": \"scattergeo\"}], \"scattergl\": [{\"marker\": {\"colorbar\": {\"outlinewidth\": 0, \"ticks\": \"\"}}, \"type\": \"scattergl\"}], \"scattermapbox\": [{\"marker\": {\"colorbar\": {\"outlinewidth\": 0, \"ticks\": \"\"}}, \"type\": \"scattermapbox\"}], \"scatterpolar\": [{\"marker\": {\"colorbar\": {\"outlinewidth\": 0, \"ticks\": \"\"}}, \"type\": \"scatterpolar\"}], \"scatterpolargl\": [{\"marker\": {\"colorbar\": {\"outlinewidth\": 0, \"ticks\": \"\"}}, \"type\": \"scatterpolargl\"}], \"scatterternary\": [{\"marker\": {\"colorbar\": {\"outlinewidth\": 0, \"ticks\": \"\"}}, \"type\": \"scatterternary\"}], \"surface\": [{\"colorbar\": {\"outlinewidth\": 0, \"ticks\": \"\"}, \"colorscale\": [[0.0, \"#0d0887\"], [0.1111111111111111, \"#46039f\"], [0.2222222222222222, \"#7201a8\"], [0.3333333333333333, \"#9c179e\"], [0.4444444444444444, \"#bd3786\"], [0.5555555555555556, \"#d8576b\"], [0.6666666666666666, \"#ed7953\"], [0.7777777777777778, \"#fb9f3a\"], [0.8888888888888888, \"#fdca26\"], [1.0, \"#f0f921\"]], \"type\": \"surface\"}], \"table\": [{\"cells\": {\"fill\": {\"color\": \"#EBF0F8\"}, \"line\": {\"color\": \"white\"}}, \"header\": {\"fill\": {\"color\": \"#C8D4E3\"}, \"line\": {\"color\": \"white\"}}, \"type\": \"table\"}]}, \"layout\": {\"annotationdefaults\": {\"arrowcolor\": \"#2a3f5f\", \"arrowhead\": 0, \"arrowwidth\": 1}, \"coloraxis\": {\"colorbar\": {\"outlinewidth\": 0, \"ticks\": \"\"}}, \"colorscale\": {\"diverging\": [[0, \"#8e0152\"], [0.1, \"#c51b7d\"], [0.2, \"#de77ae\"], [0.3, \"#f1b6da\"], [0.4, \"#fde0ef\"], [0.5, \"#f7f7f7\"], [0.6, \"#e6f5d0\"], [0.7, \"#b8e186\"], [0.8, \"#7fbc41\"], [0.9, \"#4d9221\"], [1, \"#276419\"]], \"sequential\": [[0.0, \"#0d0887\"], [0.1111111111111111, \"#46039f\"], [0.2222222222222222, \"#7201a8\"], [0.3333333333333333, \"#9c179e\"], [0.4444444444444444, \"#bd3786\"], [0.5555555555555556, \"#d8576b\"], [0.6666666666666666, \"#ed7953\"], [0.7777777777777778, \"#fb9f3a\"], [0.8888888888888888, \"#fdca26\"], [1.0, \"#f0f921\"]], \"sequentialminus\": [[0.0, \"#0d0887\"], [0.1111111111111111, \"#46039f\"], [0.2222222222222222, \"#7201a8\"], [0.3333333333333333, \"#9c179e\"], [0.4444444444444444, \"#bd3786\"], [0.5555555555555556, \"#d8576b\"], [0.6666666666666666, \"#ed7953\"], [0.7777777777777778, \"#fb9f3a\"], [0.8888888888888888, \"#fdca26\"], [1.0, \"#f0f921\"]]}, \"colorway\": [\"#636efa\", \"#EF553B\", \"#00cc96\", \"#ab63fa\", \"#FFA15A\", \"#19d3f3\", \"#FF6692\", \"#B6E880\", \"#FF97FF\", \"#FECB52\"], \"font\": {\"color\": \"#2a3f5f\"}, \"geo\": {\"bgcolor\": \"white\", \"lakecolor\": \"white\", \"landcolor\": \"#E5ECF6\", \"showlakes\": true, \"showland\": true, \"subunitcolor\": \"white\"}, \"hoverlabel\": {\"align\": \"left\"}, \"hovermode\": \"closest\", \"mapbox\": {\"style\": \"light\"}, \"paper_bgcolor\": \"white\", \"plot_bgcolor\": \"#E5ECF6\", \"polar\": {\"angularaxis\": {\"gridcolor\": \"white\", \"linecolor\": \"white\", \"ticks\": \"\"}, \"bgcolor\": \"#E5ECF6\", \"radialaxis\": {\"gridcolor\": \"white\", \"linecolor\": \"white\", \"ticks\": \"\"}}, \"scene\": {\"xaxis\": {\"backgroundcolor\": \"#E5ECF6\", \"gridcolor\": \"white\", \"gridwidth\": 2, \"linecolor\": \"white\", \"showbackground\": true, \"ticks\": \"\", \"zerolinecolor\": \"white\"}, \"yaxis\": {\"backgroundcolor\": \"#E5ECF6\", \"gridcolor\": \"white\", \"gridwidth\": 2, \"linecolor\": \"white\", \"showbackground\": true, \"ticks\": \"\", \"zerolinecolor\": \"white\"}, \"zaxis\": {\"backgroundcolor\": \"#E5ECF6\", \"gridcolor\": \"white\", \"gridwidth\": 2, \"linecolor\": \"white\", \"showbackground\": true, \"ticks\": \"\", \"zerolinecolor\": \"white\"}}, \"shapedefaults\": {\"line\": {\"color\": \"#2a3f5f\"}}, \"ternary\": {\"aaxis\": {\"gridcolor\": \"white\", \"linecolor\": \"white\", \"ticks\": \"\"}, \"baxis\": {\"gridcolor\": \"white\", \"linecolor\": \"white\", \"ticks\": \"\"}, \"bgcolor\": \"#E5ECF6\", \"caxis\": {\"gridcolor\": \"white\", \"linecolor\": \"white\", \"ticks\": \"\"}}, \"title\": {\"x\": 0.05}, \"xaxis\": {\"automargin\": true, \"gridcolor\": \"white\", \"linecolor\": \"white\", \"ticks\": \"\", \"title\": {\"standoff\": 15}, \"zerolinecolor\": \"white\", \"zerolinewidth\": 2}, \"yaxis\": {\"automargin\": true, \"gridcolor\": \"white\", \"linecolor\": \"white\", \"ticks\": \"\", \"title\": {\"standoff\": 15}, \"zerolinecolor\": \"white\", \"zerolinewidth\": 2}}}, \"title\": {\"text\": \"Visualizing Clusters in Three Dimensions Using PCA\"}, \"xaxis\": {\"ticklen\": 5, \"title\": {\"text\": \"PC1\"}, \"zeroline\": false}, \"yaxis\": {\"ticklen\": 5, \"title\": {\"text\": \"PC2\"}, \"zeroline\": false}},\n",
       "                        {\"responsive\": true}\n",
       "                    ).then(function(){\n",
       "                            \n",
       "var gd = document.getElementById('9ad2e276-3d64-4e82-8e68-ea8949c80ef4');\n",
       "var x = new MutationObserver(function (mutations, observer) {{\n",
       "        var display = window.getComputedStyle(gd).display;\n",
       "        if (!display || display === 'none') {{\n",
       "            console.log([gd, 'removed!']);\n",
       "            Plotly.purge(gd);\n",
       "            observer.disconnect();\n",
       "        }}\n",
       "}});\n",
       "\n",
       "// Listen for the removal of the full notebook cells\n",
       "var notebookContainer = gd.closest('#notebook-container');\n",
       "if (notebookContainer) {{\n",
       "    x.observe(notebookContainer, {childList: true});\n",
       "}}\n",
       "\n",
       "// Listen for the clearing of the current output cell\n",
       "var outputEl = gd.closest('.output');\n",
       "if (outputEl) {{\n",
       "    x.observe(outputEl, {childList: true});\n",
       "}}\n",
       "\n",
       "                        })\n",
       "                };\n",
       "                });\n",
       "            </script>\n",
       "        </div>"
      ]
     },
     "metadata": {},
     "output_type": "display_data"
    }
   ],
   "source": [
    "#Instructions for building the 3-D plot\n",
    "\n",
    "#trace1 is for 'Cluster 0'\n",
    "trace1 = go.Scatter3d(\n",
    "                    x = cluster0[\"PC1_3d\"],\n",
    "                    y = cluster0[\"PC2_3d\"],\n",
    "                    z = cluster0[\"PC3_3d\"],\n",
    "                    mode = \"markers\",\n",
    "                    name = \"Cluster 0\",\n",
    "                    marker = dict(color = 'rgba(170, 201, 103, 0.85)'),\n",
    "                    text = None)\n",
    "\n",
    "#trace2 is for 'Cluster 1'\n",
    "trace2 = go.Scatter3d(\n",
    "                    x = cluster1[\"PC1_3d\"],\n",
    "                    y = cluster1[\"PC2_3d\"],\n",
    "                    z = cluster1[\"PC3_3d\"],\n",
    "                    mode = \"markers\",\n",
    "                    name = \"Cluster 1\",\n",
    "                    marker = dict(color = 'rgba(103, 146, 201, 0.85)'),\n",
    "                    text = None)\n",
    "\n",
    "#trace3 is for 'Cluster 2'\n",
    "trace3 = go.Scatter3d(\n",
    "                   x = cluster2[\"PC1_3d\"],\n",
    "                   y = cluster2[\"PC2_3d\"],\n",
    "                   z = cluster2[\"PC3_3d\"],\n",
    "                   mode = \"markers\",\n",
    "                   name = \"Cluster 2\",\n",
    "                   marker = dict(color = 'rgba(201, 103, 110, 0.85)'),\n",
    "                   text = None)\n",
    "\n",
    "data_pca = [trace1, trace2, trace3]\n",
    "#data_pca = [trace1, trace2]\n",
    "\n",
    "title = \"Visualizing Clusters in Three Dimensions Using PCA\"\n",
    "\n",
    "layout = dict(title = title,\n",
    "              xaxis= dict(title= 'PC1',ticklen= 5,zeroline= False),\n",
    "              yaxis= dict(title= 'PC2',ticklen= 5,zeroline= False)\n",
    "             )\n",
    "\n",
    "fig = dict(data = data_pca, layout = layout)\n",
    "\n",
    "iplot(fig)"
   ]
  },
  {
   "cell_type": "markdown",
   "metadata": {},
   "source": [
    "## 3. Visualize via t-SNE (Sean? Sean: Yes Ma'dam!)"
   ]
  },
  {
   "cell_type": "code",
   "execution_count": 64,
   "metadata": {
    "scrolled": true
   },
   "outputs": [],
   "source": [
    "num_clusters = 3\n",
    "\n",
    "#km = KModes(n_clusters=num_clusters, init='Huang', n_init=5, verbose=1)\n",
    "#clusters = km.fit_predict(data)\n",
    "\n",
    "# Print the cluster centroids\n",
    "# print(km.cluster_centroids_)\n",
    "\n",
    "#append cluster to dataframe\n",
    "#data['Cluster'] = clusters\n",
    "\n",
    "### tSNE\n",
    "from sklearn.manifold import TSNE\n",
    "tsne = TSNE(perplexity=55)"
   ]
  },
  {
   "cell_type": "markdown",
   "metadata": {},
   "source": [
    "#### “perplexity”: it says (loosely) how to balance attention between local and global aspects of your data. \n",
    "\n",
    "#### The parameter is, in a sense, a guess about the number of close neighbors each point has. The perplexity value has a complex effect on the resulting pictures. The original paper says, “The performance of SNE is fairly robust to changes in the perplexity, and typical values are between 5 and 50.” But the story is more nuanced than that. Getting the most from t-SNE may mean analyzing multiple plots with different perplexities."
   ]
  },
  {
   "cell_type": "markdown",
   "metadata": {},
   "source": [
    "### T-SNE Plot on all features"
   ]
  },
  {
   "cell_type": "code",
   "execution_count": 65,
   "metadata": {
    "scrolled": false
   },
   "outputs": [
    {
     "data": {
      "image/png": "[encoded data removed]",
      "text/plain": [
       "<matplotlib.figure.Figure at 0x1a23c1d4a8>"
      ]
     },
     "metadata": {},
     "output_type": "display_data"
    }
   ],
   "source": [
    "# week_data = array_17[data_index]\n",
    "data_tsne = tsne.fit_transform(data)\n",
    "\n",
    "data_tsne.shape\n",
    "\n",
    "# data_tsne\n",
    "\n",
    "# data['Cluster']\n",
    "\n",
    "data_tsne_cluster = pd.DataFrame({'tsne_0': data_tsne[:,0], 'tsne_1': data_tsne[:,1], 'Cluster': data['Cluster_kmodes']})\n",
    "\n",
    "data_tsne\n",
    "\n",
    "# In[216]:\n",
    "plt.figure(figsize=(10,10))\n",
    "\n",
    "for i in range(num_clusters):\n",
    "    cluster_data = data_tsne_cluster[data_tsne_cluster['Cluster'] == i]\n",
    "    plt.scatter(cluster_data['tsne_0'], cluster_data['tsne_1'], label='Cluster_{}'.format(i), alpha=0.5)\n",
    "    \n",
    "plt.legend()\n",
    "plt.show()"
   ]
  },
  {
   "cell_type": "markdown",
   "metadata": {},
   "source": [
    "### T-SNE Plot on top 10 PCA features"
   ]
  },
  {
   "cell_type": "code",
   "execution_count": null,
   "metadata": {},
   "outputs": [],
   "source": [
    "#PCA with three principal components\n",
    "pca_tsne = PCA(n_components=10)\n",
    "\n",
    "# plotX = pd.concat([plotX, pca_tsne], axis=1, join='inner')\n",
    "\n",
    "#And this DataFrame contains three principal components that will aid us\n",
    "#in visualizing our clusters in 3-D\n",
    "\n",
    "plotX = pd.DataFrame(np.array(data))\n",
    "# plotX = pd.concat([plotX,pca_tsne], axis=1, join='inner')\n",
    "# plotX[\"dummy\"] = 0\n",
    "plotX.columns = data.columns\n",
    "plotX\n",
    "\n",
    "PCs_tsne = pd.DataFrame(pca_tsne.fit_transform(plotX.drop([\"Cluster\"], axis=1)))\n",
    "\n",
    "PCs_tsne = pd.concat([plotX['Cluster'],PCs_tsne], axis=1, join='inner')\n",
    "# PCs_tsne\n",
    "\n",
    "PCs_tsne_plot = tsne.fit_transform(PCs_tsne)\n",
    "# PCs_tsne_plot\n",
    "\n",
    "PCs_tsne_plot = pd.DataFrame({'tsne_0': PCs_tsne_plot[:,0], 'tsne_1': PCs_tsne_plot[:,1], 'Cluster': PCs_tsne['Cluster']})\n",
    "\n",
    "\n",
    "plt.figure(figsize=(10,10))\n",
    "\n",
    "for i in range(num_clusters):\n",
    "    cluster_data = PCs_tsne_plot[PCs_tsne_plot['Cluster'] == i]\n",
    "    plt.scatter(cluster_data['tsne_0'], cluster_data['tsne_1'], label='Cluster_{}'.format(i), alpha=0.5)\n",
    "    \n",
    "plt.legend()\n",
    "plt.show()"
   ]
  },
  {
   "cell_type": "code",
   "execution_count": null,
   "metadata": {},
   "outputs": [],
   "source": []
  },
  {
   "cell_type": "code",
   "execution_count": null,
   "metadata": {},
   "outputs": [],
   "source": []
  }
 ],
 "metadata": {
  "kernelspec": {
   "display_name": "Python 3",
   "language": "python",
   "name": "python3"
  },
  "language_info": {
   "codemirror_mode": {
    "name": "ipython",
    "version": 3
   },
   "file_extension": ".py",
   "mimetype": "text/x-python",
   "name": "python",
   "nbconvert_exporter": "python",
   "pygments_lexer": "ipython3",
   "version": "3.6.4"
  }
 },
 "nbformat": 4,
 "nbformat_minor": 2
}
