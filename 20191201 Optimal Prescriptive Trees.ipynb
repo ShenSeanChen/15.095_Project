{
 "cells": [
  {
   "cell_type": "code",
   "execution_count": 1,
   "metadata": {
    "scrolled": true
   },
   "outputs": [
    {
     "name": "stderr",
     "output_type": "stream",
     "text": [
      "┌ Info: Recompiling stale cache file /Users/nicolezou/.julia/compiled/v1.2/CSV/HHBkp.ji for CSV [336ed68f-0bac-5ca0-87d4-7b16caf5d00b]\n",
      "└ @ Base loading.jl:1240\n"
     ]
    },
    {
     "data": {
      "text/html": [
       "<table class=\"data-frame\"><thead><tr><th></th><th>Answer.age</th><th>Answer.easy.concentration</th><th>Answer.easy.conversation</th><th>Answer.energetic</th></tr><tr><th></th><th>Int64</th><th>Int64</th><th>Int64</th><th>Int64</th></tr></thead><tbody><p>497 rows × 47 columns (omitted printing of 43 columns)</p><tr><th>1</th><td>48</td><td>0</td><td>0</td><td>0</td></tr><tr><th>2</th><td>58</td><td>7</td><td>9</td><td>1</td></tr><tr><th>3</th><td>60</td><td>5</td><td>5</td><td>0</td></tr><tr><th>4</th><td>23</td><td>10</td><td>10</td><td>10</td></tr><tr><th>5</th><td>26</td><td>9</td><td>5</td><td>7</td></tr><tr><th>6</th><td>45</td><td>6</td><td>6</td><td>5</td></tr><tr><th>7</th><td>78</td><td>1</td><td>5</td><td>3</td></tr><tr><th>8</th><td>50</td><td>1</td><td>1</td><td>1</td></tr><tr><th>9</th><td>57</td><td>6</td><td>2</td><td>5</td></tr><tr><th>10</th><td>26</td><td>10</td><td>9</td><td>6</td></tr><tr><th>11</th><td>45</td><td>4</td><td>0</td><td>1</td></tr><tr><th>12</th><td>30</td><td>7</td><td>2</td><td>4</td></tr><tr><th>13</th><td>32</td><td>8</td><td>6</td><td>8</td></tr><tr><th>14</th><td>44</td><td>2</td><td>2</td><td>6</td></tr><tr><th>15</th><td>37</td><td>2</td><td>2</td><td>1</td></tr><tr><th>16</th><td>45</td><td>4</td><td>2</td><td>1</td></tr><tr><th>17</th><td>35</td><td>4</td><td>3</td><td>4</td></tr><tr><th>18</th><td>38</td><td>10</td><td>10</td><td>5</td></tr><tr><th>19</th><td>48</td><td>10</td><td>8</td><td>3</td></tr><tr><th>20</th><td>36</td><td>6</td><td>9</td><td>7</td></tr><tr><th>21</th><td>39</td><td>7</td><td>3</td><td>2</td></tr><tr><th>22</th><td>61</td><td>1</td><td>0</td><td>0</td></tr><tr><th>23</th><td>26</td><td>2</td><td>3</td><td>1</td></tr><tr><th>24</th><td>29</td><td>1</td><td>1</td><td>2</td></tr><tr><th>25</th><td>47</td><td>6</td><td>4</td><td>3</td></tr><tr><th>26</th><td>25</td><td>2</td><td>0</td><td>0</td></tr><tr><th>27</th><td>36</td><td>4</td><td>7</td><td>1</td></tr><tr><th>28</th><td>31</td><td>6</td><td>7</td><td>5</td></tr><tr><th>29</th><td>31</td><td>7</td><td>5</td><td>7</td></tr><tr><th>30</th><td>40</td><td>2</td><td>1</td><td>1</td></tr><tr><th>&vellip;</th><td>&vellip;</td><td>&vellip;</td><td>&vellip;</td><td>&vellip;</td></tr></tbody></table>"
      ],
      "text/latex": [
       "\\begin{tabular}{r|ccccc}\n",
       "\t& Answer.age & Answer.easy.concentration & Answer.easy.conversation & Answer.energetic & \\\\\n",
       "\t\\hline\n",
       "\t& Int64 & Int64 & Int64 & Int64 & \\\\\n",
       "\t\\hline\n",
       "\t1 & 48 & 0 & 0 & 0 & $\\dots$ \\\\\n",
       "\t2 & 58 & 7 & 9 & 1 & $\\dots$ \\\\\n",
       "\t3 & 60 & 5 & 5 & 0 & $\\dots$ \\\\\n",
       "\t4 & 23 & 10 & 10 & 10 & $\\dots$ \\\\\n",
       "\t5 & 26 & 9 & 5 & 7 & $\\dots$ \\\\\n",
       "\t6 & 45 & 6 & 6 & 5 & $\\dots$ \\\\\n",
       "\t7 & 78 & 1 & 5 & 3 & $\\dots$ \\\\\n",
       "\t8 & 50 & 1 & 1 & 1 & $\\dots$ \\\\\n",
       "\t9 & 57 & 6 & 2 & 5 & $\\dots$ \\\\\n",
       "\t10 & 26 & 10 & 9 & 6 & $\\dots$ \\\\\n",
       "\t11 & 45 & 4 & 0 & 1 & $\\dots$ \\\\\n",
       "\t12 & 30 & 7 & 2 & 4 & $\\dots$ \\\\\n",
       "\t13 & 32 & 8 & 6 & 8 & $\\dots$ \\\\\n",
       "\t14 & 44 & 2 & 2 & 6 & $\\dots$ \\\\\n",
       "\t15 & 37 & 2 & 2 & 1 & $\\dots$ \\\\\n",
       "\t16 & 45 & 4 & 2 & 1 & $\\dots$ \\\\\n",
       "\t17 & 35 & 4 & 3 & 4 & $\\dots$ \\\\\n",
       "\t18 & 38 & 10 & 10 & 5 & $\\dots$ \\\\\n",
       "\t19 & 48 & 10 & 8 & 3 & $\\dots$ \\\\\n",
       "\t20 & 36 & 6 & 9 & 7 & $\\dots$ \\\\\n",
       "\t21 & 39 & 7 & 3 & 2 & $\\dots$ \\\\\n",
       "\t22 & 61 & 1 & 0 & 0 & $\\dots$ \\\\\n",
       "\t23 & 26 & 2 & 3 & 1 & $\\dots$ \\\\\n",
       "\t24 & 29 & 1 & 1 & 2 & $\\dots$ \\\\\n",
       "\t25 & 47 & 6 & 4 & 3 & $\\dots$ \\\\\n",
       "\t26 & 25 & 2 & 0 & 0 & $\\dots$ \\\\\n",
       "\t27 & 36 & 4 & 7 & 1 & $\\dots$ \\\\\n",
       "\t28 & 31 & 6 & 7 & 5 & $\\dots$ \\\\\n",
       "\t29 & 31 & 7 & 5 & 7 & $\\dots$ \\\\\n",
       "\t30 & 40 & 2 & 1 & 1 & $\\dots$ \\\\\n",
       "\t$\\dots$ & $\\dots$ & $\\dots$ & $\\dots$ & $\\dots$ &  \\\\\n",
       "\\end{tabular}\n"
      ],
      "text/plain": [
       "497×47 DataFrame. Omitted printing of 44 columns\n",
       "│ Row │ Answer.age │ Answer.easy.concentration │ Answer.easy.conversation │\n",
       "│     │ \u001b[90mInt64\u001b[39m      │ \u001b[90mInt64\u001b[39m                     │ \u001b[90mInt64\u001b[39m                    │\n",
       "├─────┼────────────┼───────────────────────────┼──────────────────────────┤\n",
       "│ 1   │ 48         │ 0                         │ 0                        │\n",
       "│ 2   │ 58         │ 7                         │ 9                        │\n",
       "│ 3   │ 60         │ 5                         │ 5                        │\n",
       "│ 4   │ 23         │ 10                        │ 10                       │\n",
       "│ 5   │ 26         │ 9                         │ 5                        │\n",
       "│ 6   │ 45         │ 6                         │ 6                        │\n",
       "│ 7   │ 78         │ 1                         │ 5                        │\n",
       "│ 8   │ 50         │ 1                         │ 1                        │\n",
       "│ 9   │ 57         │ 6                         │ 2                        │\n",
       "│ 10  │ 26         │ 10                        │ 9                        │\n",
       "⋮\n",
       "│ 487 │ 29         │ 7                         │ 8                        │\n",
       "│ 488 │ 36         │ 0                         │ 0                        │\n",
       "│ 489 │ 55         │ 8                         │ 8                        │\n",
       "│ 490 │ 27         │ 4                         │ 4                        │\n",
       "│ 491 │ 40         │ 10                        │ 1                        │\n",
       "│ 492 │ 64         │ 9                         │ 7                        │\n",
       "│ 493 │ 31         │ 1                         │ 2                        │\n",
       "│ 494 │ 22         │ 5                         │ 5                        │\n",
       "│ 495 │ 49         │ 10                        │ 8                        │\n",
       "│ 496 │ 37         │ 2                         │ 5                        │\n",
       "│ 497 │ 22         │ 1                         │ 1                        │"
      ]
     },
     "execution_count": 1,
     "metadata": {},
     "output_type": "execute_result"
    }
   ],
   "source": [
    "#Read data\n",
    "using JuMP, Gurobi, LinearAlgebra, Statistics, CSV, DataFrames, Random\n",
    "\n",
    "df = CSV.read(\"data_clustered2.csv\", header=true, copycols=true)"
   ]
  },
  {
   "cell_type": "code",
   "execution_count": null,
   "metadata": {},
   "outputs": [],
   "source": []
  }
 ],
 "metadata": {
  "kernelspec": {
   "display_name": "Julia 1.2.0",
   "language": "julia",
   "name": "julia-1.2"
  },
  "language_info": {
   "file_extension": ".jl",
   "mimetype": "application/julia",
   "name": "julia",
   "version": "1.2.0"
  }
 },
 "nbformat": 4,
 "nbformat_minor": 2
}
