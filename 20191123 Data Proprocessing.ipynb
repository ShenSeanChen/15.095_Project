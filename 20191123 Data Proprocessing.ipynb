{
 "cells": [
  {
   "cell_type": "markdown",
   "metadata": {},
   "source": [
    "## 0. Raw data examination & preprocessing"
   ]
  },
  {
   "cell_type": "code",
   "execution_count": 1,
   "metadata": {},
   "outputs": [],
   "source": [
    "import numpy as np\n",
    "import pandas as pd\n",
    "import matplotlib.pyplot as plt\n",
    "import seaborn as sns\n",
    "import warnings\n",
    "import re\n",
    "warnings.filterwarnings('ignore')"
   ]
  },
  {
   "cell_type": "code",
   "execution_count": 2,
   "metadata": {
    "scrolled": true
   },
   "outputs": [
    {
     "data": {
      "text/html": [
       "<div>\n",
       "<style scoped>\n",
       "    .dataframe tbody tr th:only-of-type {\n",
       "        vertical-align: middle;\n",
       "    }\n",
       "\n",
       "    .dataframe tbody tr th {\n",
       "        vertical-align: top;\n",
       "    }\n",
       "\n",
       "    .dataframe thead th {\n",
       "        text-align: right;\n",
       "    }\n",
       "</style>\n",
       "<table border=\"1\" class=\"dataframe\">\n",
       "  <thead>\n",
       "    <tr style=\"text-align: right;\">\n",
       "      <th></th>\n",
       "      <th>HITId</th>\n",
       "      <th>HITTypeId</th>\n",
       "      <th>Title</th>\n",
       "      <th>Description</th>\n",
       "      <th>Keywords</th>\n",
       "      <th>Reward</th>\n",
       "      <th>CreationTime</th>\n",
       "      <th>MaxAssignments</th>\n",
       "      <th>RequesterAnnotation</th>\n",
       "      <th>AssignmentDurationInSeconds</th>\n",
       "      <th>...</th>\n",
       "      <th>Answer.work-normal-minute</th>\n",
       "      <th>Answer.work-yesterday-hour</th>\n",
       "      <th>Answer.work-yesterday-minute</th>\n",
       "      <th>Answer.yesterday-energy</th>\n",
       "      <th>Answer.youtube-normal-hour</th>\n",
       "      <th>Answer.youtube-normal-minute</th>\n",
       "      <th>Answer.youtube-yesterday-hour</th>\n",
       "      <th>Answer.youtube-yesterday-minute</th>\n",
       "      <th>Approve</th>\n",
       "      <th>Reject</th>\n",
       "    </tr>\n",
       "  </thead>\n",
       "  <tbody>\n",
       "    <tr>\n",
       "      <th>0</th>\n",
       "      <td>36D1BWBEIQKT50289A0WHOHBOE62MH</td>\n",
       "      <td>3R70E4E2CRCWECZ6RBNAVLDESNOCPX</td>\n",
       "      <td>MIT - A survey about your lifestyle and schedule</td>\n",
       "      <td>We are conducting a survey to understand how p...</td>\n",
       "      <td>survey; psychology; lifestyle; schedule; Machi...</td>\n",
       "      <td>$0.15</td>\n",
       "      <td>Tue Nov 26 06:04:12 PST 2019</td>\n",
       "      <td>500</td>\n",
       "      <td>BatchId:3849401;OriginalHitTemplateId:928390912;</td>\n",
       "      <td>1800</td>\n",
       "      <td>...</td>\n",
       "      <td>0</td>\n",
       "      <td>5</td>\n",
       "      <td>0</td>\n",
       "      <td>1</td>\n",
       "      <td>1</td>\n",
       "      <td>0</td>\n",
       "      <td>3</td>\n",
       "      <td>0</td>\n",
       "      <td>NaN</td>\n",
       "      <td>NaN</td>\n",
       "    </tr>\n",
       "  </tbody>\n",
       "</table>\n",
       "<p>1 rows × 188 columns</p>\n",
       "</div>"
      ],
      "text/plain": [
       "                            HITId                       HITTypeId  \\\n",
       "0  36D1BWBEIQKT50289A0WHOHBOE62MH  3R70E4E2CRCWECZ6RBNAVLDESNOCPX   \n",
       "\n",
       "                                              Title  \\\n",
       "0  MIT - A survey about your lifestyle and schedule   \n",
       "\n",
       "                                         Description  \\\n",
       "0  We are conducting a survey to understand how p...   \n",
       "\n",
       "                                            Keywords Reward  \\\n",
       "0  survey; psychology; lifestyle; schedule; Machi...  $0.15   \n",
       "\n",
       "                   CreationTime  MaxAssignments  \\\n",
       "0  Tue Nov 26 06:04:12 PST 2019             500   \n",
       "\n",
       "                                RequesterAnnotation  \\\n",
       "0  BatchId:3849401;OriginalHitTemplateId:928390912;   \n",
       "\n",
       "   AssignmentDurationInSeconds  ...  Answer.work-normal-minute  \\\n",
       "0                         1800  ...                          0   \n",
       "\n",
       "  Answer.work-yesterday-hour  Answer.work-yesterday-minute  \\\n",
       "0                          5                             0   \n",
       "\n",
       "   Answer.yesterday-energy Answer.youtube-normal-hour  \\\n",
       "0                        1                          1   \n",
       "\n",
       "  Answer.youtube-normal-minute Answer.youtube-yesterday-hour  \\\n",
       "0                            0                             3   \n",
       "\n",
       "  Answer.youtube-yesterday-minute Approve Reject  \n",
       "0                               0     NaN    NaN  \n",
       "\n",
       "[1 rows x 188 columns]"
      ]
     },
     "execution_count": 2,
     "metadata": {},
     "output_type": "execute_result"
    }
   ],
   "source": [
    "data_raw = pd.read_csv('data/Batch_3849401_batch_191127.csv',\n",
    "           encoding = \"ISO-8859-1\")\n",
    "data_raw.head(1)"
   ]
  },
  {
   "cell_type": "code",
   "execution_count": 3,
   "metadata": {},
   "outputs": [],
   "source": [
    "data_raw2 = pd.read_csv('data/Batch_3850886_batch_191127.csv',\n",
    "           encoding = \"ISO-8859-1\")\n",
    "data_raw = data_raw.append(data_raw2)"
   ]
  },
  {
   "cell_type": "code",
   "execution_count": 4,
   "metadata": {},
   "outputs": [
    {
     "data": {
      "text/plain": [
       "(517, 188)"
      ]
     },
     "execution_count": 4,
     "metadata": {},
     "output_type": "execute_result"
    }
   ],
   "source": [
    "data_raw.shape"
   ]
  },
  {
   "cell_type": "code",
   "execution_count": 5,
   "metadata": {},
   "outputs": [],
   "source": [
    "data_raw = data_raw.drop(columns=['HITId', \\\n",
    " 'HITTypeId', \\\n",
    " 'Title', \\\n",
    " 'Description', \\\n",
    " 'Keywords', \\\n",
    " 'Reward', \\\n",
    " 'CreationTime', \\\n",
    " 'MaxAssignments', \\\n",
    " 'RequesterAnnotation', \\\n",
    " 'AssignmentDurationInSeconds', \\\n",
    " 'AutoApprovalDelayInSeconds', \\\n",
    " 'Expiration', \\\n",
    " 'NumberOfSimilarHITs', \\\n",
    " 'LifetimeInSeconds', \\\n",
    " 'AssignmentId', \\\n",
    " 'AssignmentStatus', \\\n",
    " 'AcceptTime', \\\n",
    " 'SubmitTime', \\\n",
    " 'AutoApprovalTime', \\\n",
    " 'ApprovalTime', \\\n",
    " 'RejectionTime', \\\n",
    " 'RequesterFeedback', \\\n",
    " 'WorkTimeInSeconds', \\\n",
    " 'LifetimeApprovalRate', \\\n",
    " 'Last30DaysApprovalRate', \\\n",
    " 'Last7DaysApprovalRate'])"
   ]
  },
  {
   "cell_type": "code",
   "execution_count": 6,
   "metadata": {},
   "outputs": [],
   "source": [
    "data_raw.columns = data_raw.columns.str.replace('-','.')"
   ]
  },
  {
   "cell_type": "code",
   "execution_count": 7,
   "metadata": {},
   "outputs": [],
   "source": [
    "data_raw = data_raw.drop(columns = ['Approve', \\\n",
    "                           'Reject'])"
   ]
  },
  {
   "cell_type": "code",
   "execution_count": 8,
   "metadata": {},
   "outputs": [],
   "source": [
    "data_raw = data_raw.drop(columns = ['Answer.Comment'])"
   ]
  },
  {
   "cell_type": "code",
   "execution_count": 10,
   "metadata": {},
   "outputs": [
    {
     "name": "stdout",
     "output_type": "stream",
     "text": [
      "Answer.age\n"
     ]
    }
   ],
   "source": [
    "for col in data_raw.columns.tolist():\n",
    "    if data_raw[col].isnull().sum() != 0:\n",
    "        print(col)"
   ]
  },
  {
   "cell_type": "code",
   "execution_count": 11,
   "metadata": {},
   "outputs": [],
   "source": [
    "#drop na\n",
    "data_raw = data_raw.dropna()"
   ]
  },
  {
   "cell_type": "code",
   "execution_count": 12,
   "metadata": {},
   "outputs": [],
   "source": [
    "file_name=\"data_preprocessed.csv\"\n",
    "data_raw.to_csv(file_name, index=False)"
   ]
  },
  {
   "cell_type": "code",
   "execution_count": null,
   "metadata": {},
   "outputs": [],
   "source": []
  }
 ],
 "metadata": {
  "kernelspec": {
   "display_name": "Python 3",
   "language": "python",
   "name": "python3"
  },
  "language_info": {
   "codemirror_mode": {
    "name": "ipython",
    "version": 3
   },
   "file_extension": ".py",
   "mimetype": "text/x-python",
   "name": "python",
   "nbconvert_exporter": "python",
   "pygments_lexer": "ipython3",
   "version": "3.7.3"
  }
 },
 "nbformat": 4,
 "nbformat_minor": 2
}
