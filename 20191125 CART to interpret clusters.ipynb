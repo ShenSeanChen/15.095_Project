{
 "cells": [
  {
   "cell_type": "code",
   "execution_count": 1,
   "metadata": {},
   "outputs": [],
   "source": [
    "import numpy as np\n",
    "import pandas as pd\n",
    "import matplotlib.pyplot as plt\n",
    "import seaborn as sns\n",
    "import warnings\n",
    "warnings.filterwarnings('ignore')"
   ]
  },
  {
   "cell_type": "code",
   "execution_count": 2,
   "metadata": {},
   "outputs": [],
   "source": [
    "# !pip install graphviz"
   ]
  },
  {
   "cell_type": "code",
   "execution_count": 3,
   "metadata": {},
   "outputs": [],
   "source": [
    "from sklearn.model_selection import cross_val_score\n",
    "from sklearn.tree import DecisionTreeClassifier\n",
    "from sklearn.model_selection import train_test_split\n",
    "from graphviz import Source\n",
    "from sklearn import tree"
   ]
  },
  {
   "cell_type": "code",
   "execution_count": 5,
   "metadata": {},
   "outputs": [
    {
     "data": {
      "text/html": [
       "<div>\n",
       "<style scoped>\n",
       "    .dataframe tbody tr th:only-of-type {\n",
       "        vertical-align: middle;\n",
       "    }\n",
       "\n",
       "    .dataframe tbody tr th {\n",
       "        vertical-align: top;\n",
       "    }\n",
       "\n",
       "    .dataframe thead th {\n",
       "        text-align: right;\n",
       "    }\n",
       "</style>\n",
       "<table border=\"1\" class=\"dataframe\">\n",
       "  <thead>\n",
       "    <tr style=\"text-align: right;\">\n",
       "      <th></th>\n",
       "      <th>Answer.age</th>\n",
       "      <th>Answer.game.normal.time</th>\n",
       "      <th>Answer.game.yesterday.time</th>\n",
       "      <th>Answer.leisure.ideal.time</th>\n",
       "      <th>Answer.leisure.minimum.time</th>\n",
       "      <th>Answer.leisure.normal.time</th>\n",
       "      <th>Answer.leisure.yesterday.time</th>\n",
       "      <th>Answer.sleep.ideal.time</th>\n",
       "      <th>Answer.sleep.minimum.time</th>\n",
       "      <th>Answer.sleep.normal.time</th>\n",
       "      <th>...</th>\n",
       "      <th>Answer.social.event.yesterday</th>\n",
       "      <th>Answer.bed.time.normal</th>\n",
       "      <th>Answer.ethnicity</th>\n",
       "      <th>Answer.bed.time.yesterday</th>\n",
       "      <th>Answer.gender</th>\n",
       "      <th>Answer.income</th>\n",
       "      <th>Answer.introvert</th>\n",
       "      <th>Meal_Irregularity_Score</th>\n",
       "      <th>Energy_today</th>\n",
       "      <th>Cluster_kmodes</th>\n",
       "    </tr>\n",
       "  </thead>\n",
       "  <tbody>\n",
       "    <tr>\n",
       "      <th>0</th>\n",
       "      <td>48</td>\n",
       "      <td>0.0</td>\n",
       "      <td>0.0</td>\n",
       "      <td>4.0</td>\n",
       "      <td>3.0</td>\n",
       "      <td>2.0</td>\n",
       "      <td>0.0</td>\n",
       "      <td>8.0</td>\n",
       "      <td>8.0</td>\n",
       "      <td>8.0</td>\n",
       "      <td>...</td>\n",
       "      <td>1</td>\n",
       "      <td>2</td>\n",
       "      <td>6</td>\n",
       "      <td>3</td>\n",
       "      <td>1</td>\n",
       "      <td>4</td>\n",
       "      <td>1</td>\n",
       "      <td>-1.0</td>\n",
       "      <td>1.8</td>\n",
       "      <td>1</td>\n",
       "    </tr>\n",
       "    <tr>\n",
       "      <th>1</th>\n",
       "      <td>58</td>\n",
       "      <td>8.0</td>\n",
       "      <td>9.0</td>\n",
       "      <td>5.0</td>\n",
       "      <td>3.0</td>\n",
       "      <td>3.0</td>\n",
       "      <td>7.0</td>\n",
       "      <td>8.0</td>\n",
       "      <td>7.0</td>\n",
       "      <td>7.0</td>\n",
       "      <td>...</td>\n",
       "      <td>1</td>\n",
       "      <td>5</td>\n",
       "      <td>1</td>\n",
       "      <td>6</td>\n",
       "      <td>2</td>\n",
       "      <td>4</td>\n",
       "      <td>1</td>\n",
       "      <td>-1.0</td>\n",
       "      <td>5.2</td>\n",
       "      <td>0</td>\n",
       "    </tr>\n",
       "    <tr>\n",
       "      <th>2</th>\n",
       "      <td>60</td>\n",
       "      <td>0.0</td>\n",
       "      <td>0.0</td>\n",
       "      <td>6.0</td>\n",
       "      <td>4.0</td>\n",
       "      <td>4.0</td>\n",
       "      <td>6.0</td>\n",
       "      <td>8.0</td>\n",
       "      <td>6.0</td>\n",
       "      <td>7.0</td>\n",
       "      <td>...</td>\n",
       "      <td>1</td>\n",
       "      <td>4</td>\n",
       "      <td>6</td>\n",
       "      <td>5</td>\n",
       "      <td>1</td>\n",
       "      <td>2</td>\n",
       "      <td>1</td>\n",
       "      <td>3.0</td>\n",
       "      <td>6.0</td>\n",
       "      <td>0</td>\n",
       "    </tr>\n",
       "    <tr>\n",
       "      <th>3</th>\n",
       "      <td>23</td>\n",
       "      <td>0.0</td>\n",
       "      <td>0.0</td>\n",
       "      <td>1.0</td>\n",
       "      <td>0.5</td>\n",
       "      <td>0.5</td>\n",
       "      <td>0.5</td>\n",
       "      <td>8.0</td>\n",
       "      <td>6.0</td>\n",
       "      <td>6.0</td>\n",
       "      <td>...</td>\n",
       "      <td>2</td>\n",
       "      <td>3</td>\n",
       "      <td>6</td>\n",
       "      <td>3</td>\n",
       "      <td>1</td>\n",
       "      <td>2</td>\n",
       "      <td>2</td>\n",
       "      <td>3.0</td>\n",
       "      <td>6.0</td>\n",
       "      <td>2</td>\n",
       "    </tr>\n",
       "    <tr>\n",
       "      <th>4</th>\n",
       "      <td>26</td>\n",
       "      <td>0.0</td>\n",
       "      <td>0.0</td>\n",
       "      <td>3.0</td>\n",
       "      <td>0.0</td>\n",
       "      <td>2.0</td>\n",
       "      <td>0.0</td>\n",
       "      <td>6.0</td>\n",
       "      <td>2.0</td>\n",
       "      <td>6.0</td>\n",
       "      <td>...</td>\n",
       "      <td>2</td>\n",
       "      <td>4</td>\n",
       "      <td>1</td>\n",
       "      <td>4</td>\n",
       "      <td>2</td>\n",
       "      <td>1</td>\n",
       "      <td>0</td>\n",
       "      <td>-1.0</td>\n",
       "      <td>4.2</td>\n",
       "      <td>2</td>\n",
       "    </tr>\n",
       "  </tbody>\n",
       "</table>\n",
       "<p>5 rows × 42 columns</p>\n",
       "</div>"
      ],
      "text/plain": [
       "   Answer.age  Answer.game.normal.time  Answer.game.yesterday.time  \\\n",
       "0          48                      0.0                         0.0   \n",
       "1          58                      8.0                         9.0   \n",
       "2          60                      0.0                         0.0   \n",
       "3          23                      0.0                         0.0   \n",
       "4          26                      0.0                         0.0   \n",
       "\n",
       "   Answer.leisure.ideal.time  Answer.leisure.minimum.time  \\\n",
       "0                        4.0                          3.0   \n",
       "1                        5.0                          3.0   \n",
       "2                        6.0                          4.0   \n",
       "3                        1.0                          0.5   \n",
       "4                        3.0                          0.0   \n",
       "\n",
       "   Answer.leisure.normal.time  Answer.leisure.yesterday.time  \\\n",
       "0                         2.0                            0.0   \n",
       "1                         3.0                            7.0   \n",
       "2                         4.0                            6.0   \n",
       "3                         0.5                            0.5   \n",
       "4                         2.0                            0.0   \n",
       "\n",
       "   Answer.sleep.ideal.time  Answer.sleep.minimum.time  \\\n",
       "0                      8.0                        8.0   \n",
       "1                      8.0                        7.0   \n",
       "2                      8.0                        6.0   \n",
       "3                      8.0                        6.0   \n",
       "4                      6.0                        2.0   \n",
       "\n",
       "   Answer.sleep.normal.time  ...  Answer.social.event.yesterday  \\\n",
       "0                       8.0  ...                              1   \n",
       "1                       7.0  ...                              1   \n",
       "2                       7.0  ...                              1   \n",
       "3                       6.0  ...                              2   \n",
       "4                       6.0  ...                              2   \n",
       "\n",
       "   Answer.bed.time.normal  Answer.ethnicity  Answer.bed.time.yesterday  \\\n",
       "0                       2                 6                          3   \n",
       "1                       5                 1                          6   \n",
       "2                       4                 6                          5   \n",
       "3                       3                 6                          3   \n",
       "4                       4                 1                          4   \n",
       "\n",
       "   Answer.gender  Answer.income  Answer.introvert  Meal_Irregularity_Score  \\\n",
       "0              1              4                 1                     -1.0   \n",
       "1              2              4                 1                     -1.0   \n",
       "2              1              2                 1                      3.0   \n",
       "3              1              2                 2                      3.0   \n",
       "4              2              1                 0                     -1.0   \n",
       "\n",
       "   Energy_today  Cluster_kmodes  \n",
       "0           1.8               1  \n",
       "1           5.2               0  \n",
       "2           6.0               0  \n",
       "3           6.0               2  \n",
       "4           4.2               2  \n",
       "\n",
       "[5 rows x 42 columns]"
      ]
     },
     "execution_count": 5,
     "metadata": {},
     "output_type": "execute_result"
    }
   ],
   "source": [
    "#load data\n",
    "data = pd.read_csv('data_clustered_3_oct.csv')\n",
    "#data = data.drop(columns = ['Answer.tired','Answer.easy.concentration','Answer.sleepy', 'Answer.energetic', 'Answer.easy.conversation'])\n",
    "data.head(5)"
   ]
  },
  {
   "cell_type": "code",
   "execution_count": 7,
   "metadata": {},
   "outputs": [],
   "source": [
    "X = data.drop(['Cluster_kmodes'], axis=1)\n",
    "y = data['Cluster_kmodes']"
   ]
  },
  {
   "cell_type": "code",
   "execution_count": 8,
   "metadata": {},
   "outputs": [],
   "source": [
    "X_train, X_test, y_train, y_test = train_test_split(X, y, test_size=0.33, random_state=42)"
   ]
  },
  {
   "cell_type": "code",
   "execution_count": 9,
   "metadata": {},
   "outputs": [
    {
     "data": {
      "text/plain": [
       "0.45454545454545453"
      ]
     },
     "execution_count": 9,
     "metadata": {},
     "output_type": "execute_result"
    }
   ],
   "source": [
    "#criterion: GINI\n",
    "depth_vec = range(1,10)\n",
    "score_vec = []\n",
    "\n",
    "\n",
    "for depth in depth_vec:\n",
    "    clf = DecisionTreeClassifier(random_state=0, max_depth=depth, min_samples_leaf = 1)\n",
    "    model = clf.fit(X_train, y_train)\n",
    "    score_vec.append(clf.score(X_test, y_test))\n",
    "    \n",
    "\n",
    "#retrain the tree with best depth parameter\n",
    "depth_best = depth_vec[score_vec.index(max(score_vec))]\n",
    "clf = DecisionTreeClassifier(random_state=0, max_depth=depth_best)\n",
    "model = clf.fit(X_train, y_train)\n",
    "clf.score(X_test, y_test)"
   ]
  },
  {
   "cell_type": "code",
   "execution_count": 10,
   "metadata": {},
   "outputs": [
    {
     "data": {
      "text/plain": [
       "3"
      ]
     },
     "execution_count": 10,
     "metadata": {},
     "output_type": "execute_result"
    }
   ],
   "source": [
    "depth_best"
   ]
  },
  {
   "cell_type": "code",
   "execution_count": 11,
   "metadata": {},
   "outputs": [],
   "source": [
    "# import os\n",
    "# os.environ[\"PATH\"] += os.pathsep + 'D:/Program Files (x86)/Graphviz2.38/bin/'"
   ]
  },
  {
   "cell_type": "code",
   "execution_count": 12,
   "metadata": {},
   "outputs": [
    {
     "data": {
      "text/plain": [
       "'test.gv.png'"
      ]
     },
     "execution_count": 12,
     "metadata": {},
     "output_type": "execute_result"
    }
   ],
   "source": [
    "dot_data = tree.export_graphviz(clf, feature_names = X.columns) \n",
    "s = Source(dot_data, filename=\"test.gv\", format=\"png\")\n",
    "s.view()"
   ]
  },
  {
   "cell_type": "markdown",
   "metadata": {},
   "source": [
    "<span style=color:red> need to double check if clf.score in sklearn is the same as misclassification error in OCT </span>"
   ]
  },
  {
   "cell_type": "code",
   "execution_count": null,
   "metadata": {},
   "outputs": [],
   "source": []
  }
 ],
 "metadata": {
  "kernelspec": {
   "display_name": "Python 3",
   "language": "python",
   "name": "python3"
  },
  "language_info": {
   "codemirror_mode": {
    "name": "ipython",
    "version": 3
   },
   "file_extension": ".py",
   "mimetype": "text/x-python",
   "name": "python",
   "nbconvert_exporter": "python",
   "pygments_lexer": "ipython3",
   "version": "3.6.4"
  }
 },
 "nbformat": 4,
 "nbformat_minor": 2
}
